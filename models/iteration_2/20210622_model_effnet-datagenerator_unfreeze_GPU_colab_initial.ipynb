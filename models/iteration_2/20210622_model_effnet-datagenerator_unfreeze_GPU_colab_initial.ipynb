{
 "cells": [
  {
   "cell_type": "code",
   "execution_count": null,
   "metadata": {
    "colab": {
     "base_uri": "https://localhost:8080/"
    },
    "executionInfo": {
     "elapsed": 19544,
     "status": "ok",
     "timestamp": 1624449308669,
     "user": {
      "displayName": "adrien.moreau@outlook.com",
      "photoUrl": "https://lh3.googleusercontent.com/a-/AOh14GhIPRsrERBf3lLtyJxD2dP4-Z0CBqBfHRDL6_xK=s64",
      "userId": "03481180972326007030"
     },
     "user_tz": -120
    },
    "id": "klQTKIZd1yiV",
    "outputId": "d523a04b-2128-4dbb-fe9c-16675217e15b"
   },
   "outputs": [
    {
     "name": "stdout",
     "output_type": "stream",
     "text": [
      "Mounted at /content/gdrive\n"
     ]
    }
   ],
   "source": [
    "from google.colab import drive\n",
    "drive.mount(\"/content/gdrive\", force_remount=True)"
   ]
  },
  {
   "cell_type": "code",
   "execution_count": null,
   "metadata": {
    "id": "scT7c9jU2CMF"
   },
   "outputs": [],
   "source": [
    "import pandas as pd\n",
    "import numpy as np\n",
    "from tqdm import tqdm\n",
    "import itertools # Pour créer des iterateurs\n",
    "\n",
    "import matplotlib.pyplot as plt  # Pour l'affichage d'images\n",
    "from matplotlib import cm # Pour importer de nouvelles cartes de couleur\n",
    "\n",
    "from sklearn.model_selection import train_test_split\n",
    "from sklearn import metrics\n",
    "\n",
    "from PIL import Image\n",
    "\n",
    "import tensorflow as tf\n",
    "import keras\n",
    "from keras.preprocessing.image import ImageDataGenerator\n",
    "from tensorflow.keras.applications import EfficientNetB1\n",
    "from tensorflow.keras.layers import Dense, GlobalAveragePooling2D, Dropout, Conv2D, MaxPooling2D, BatchNormalization, LeakyReLU, Flatten\n",
    "from tensorflow.keras.models import Model, Sequential, load_model\n",
    "from tensorflow.keras import callbacks\n",
    "\n",
    "%matplotlib inline"
   ]
  },
  {
   "cell_type": "code",
   "execution_count": null,
   "metadata": {
    "colab": {
     "base_uri": "https://localhost:8080/",
     "height": 204
    },
    "executionInfo": {
     "elapsed": 437,
     "status": "ok",
     "timestamp": 1624449312348,
     "user": {
      "displayName": "adrien.moreau@outlook.com",
      "photoUrl": "https://lh3.googleusercontent.com/a-/AOh14GhIPRsrERBf3lLtyJxD2dP4-Z0CBqBfHRDL6_xK=s64",
      "userId": "03481180972326007030"
     },
     "user_tz": -120
    },
    "id": "3EnRhY5g2WIa",
    "outputId": "12f6e2a8-8625-4c33-f96c-7c3364fadc2d"
   },
   "outputs": [
    {
     "data": {
      "text/html": [
       "<div>\n",
       "<style scoped>\n",
       "    .dataframe tbody tr th:only-of-type {\n",
       "        vertical-align: middle;\n",
       "    }\n",
       "\n",
       "    .dataframe tbody tr th {\n",
       "        vertical-align: top;\n",
       "    }\n",
       "\n",
       "    .dataframe thead th {\n",
       "        text-align: right;\n",
       "    }\n",
       "</style>\n",
       "<table border=\"1\" class=\"dataframe\">\n",
       "  <thead>\n",
       "    <tr style=\"text-align: right;\">\n",
       "      <th></th>\n",
       "      <th>image_id</th>\n",
       "      <th>image_url</th>\n",
       "      <th>family</th>\n",
       "      <th>filepath</th>\n",
       "      <th>label</th>\n",
       "    </tr>\n",
       "  </thead>\n",
       "  <tbody>\n",
       "    <tr>\n",
       "      <th>0</th>\n",
       "      <td>28</td>\n",
       "      <td>http://mushroomobserver.org/images/320/28</td>\n",
       "      <td>Inocybaceae</td>\n",
       "      <td>/content/gdrive/MyDrive/images_mushroom/28.jpg</td>\n",
       "      <td>0</td>\n",
       "    </tr>\n",
       "    <tr>\n",
       "      <th>1</th>\n",
       "      <td>86</td>\n",
       "      <td>http://mushroomobserver.org/images/320/86</td>\n",
       "      <td>Physalacriaceae</td>\n",
       "      <td>/content/gdrive/MyDrive/images_mushroom/86.jpg</td>\n",
       "      <td>3</td>\n",
       "    </tr>\n",
       "    <tr>\n",
       "      <th>2</th>\n",
       "      <td>87</td>\n",
       "      <td>http://mushroomobserver.org/images/320/87</td>\n",
       "      <td>Physalacriaceae</td>\n",
       "      <td>/content/gdrive/MyDrive/images_mushroom/87.jpg</td>\n",
       "      <td>3</td>\n",
       "    </tr>\n",
       "    <tr>\n",
       "      <th>3</th>\n",
       "      <td>126</td>\n",
       "      <td>http://mushroomobserver.org/images/320/126</td>\n",
       "      <td>Omphalotaceae</td>\n",
       "      <td>/content/gdrive/MyDrive/images_mushroom/126.jpg</td>\n",
       "      <td>1</td>\n",
       "    </tr>\n",
       "    <tr>\n",
       "      <th>4</th>\n",
       "      <td>128</td>\n",
       "      <td>http://mushroomobserver.org/images/320/128</td>\n",
       "      <td>Omphalotaceae</td>\n",
       "      <td>/content/gdrive/MyDrive/images_mushroom/128.jpg</td>\n",
       "      <td>1</td>\n",
       "    </tr>\n",
       "  </tbody>\n",
       "</table>\n",
       "</div>"
      ],
      "text/plain": [
       "   image_id  ... label\n",
       "0        28  ...     0\n",
       "1        86  ...     3\n",
       "2        87  ...     3\n",
       "3       126  ...     1\n",
       "4       128  ...     1\n",
       "\n",
       "[5 rows x 5 columns]"
      ]
     },
     "execution_count": 3,
     "metadata": {
      "tags": []
     },
     "output_type": "execute_result"
    }
   ],
   "source": [
    "csv_5fam = \"/content/gdrive/MyDrive/Colab Notebooks/reduced_dataset_5_families.csv\"\n",
    "df = pd.read_csv(csv_5fam)\n",
    "\n",
    "folderpath = \"/content/gdrive/MyDrive/images_mushroom/\"\n",
    "df['filepath'] = [folderpath + str(df['image_id'][x]) + \".jpg\" for x in range(len(df))]\n",
    "\n",
    "df.head()"
   ]
  },
  {
   "cell_type": "code",
   "execution_count": null,
   "metadata": {
    "colab": {
     "base_uri": "https://localhost:8080/",
     "height": 269
    },
    "executionInfo": {
     "elapsed": 1173,
     "status": "ok",
     "timestamp": 1624450426956,
     "user": {
      "displayName": "adrien.moreau@outlook.com",
      "photoUrl": "https://lh3.googleusercontent.com/a-/AOh14GhIPRsrERBf3lLtyJxD2dP4-Z0CBqBfHRDL6_xK=s64",
      "userId": "03481180972326007030"
     },
     "user_tz": -120
    },
    "id": "HT_UqlWFQZ5I",
    "outputId": "0899987b-0b66-4942-dbd7-da7052bb0505"
   },
   "outputs": [
    {
     "data": {
      "image/png": "[encoded data removed]",
      "text/plain": [
       "<Figure size 432x288 with 1 Axes>"
      ]
     },
     "metadata": {
      "needs_background": "light",
      "tags": []
     },
     "output_type": "display_data"
    }
   ],
   "source": [
    "# Just to run a simple test:\n",
    "\n",
    "im = tf.io.read_file(df['filepath'].iloc[37])\n",
    "# Décoder l'information en un tensorflow RGB (3 channels).\n",
    "im = tf.image.decode_jpeg(im, channels=3)\n",
    "\n",
    "plt.imshow(im);"
   ]
  },
  {
   "cell_type": "code",
   "execution_count": null,
   "metadata": {
    "colab": {
     "background_save": true
    },
    "id": "IfP7zIoN2CR7"
   },
   "outputs": [],
   "source": [
    "#X_train_path, X_test_path, y_train, y_test = train_test_split(df['filepath'], df['label'], test_size=0.2, random_state=42)\n",
    "\n",
    "#X_test = []\n",
    "#for filepath in tqdm(X_test_path):\n",
    "#    # Lecture du fichier\n",
    "#    im = tf.io.read_file(filepath)\n",
    "#    # On décode le fichier\n",
    "#    im = tf.image.decode_jpeg(im, channels=3)\n",
    "#    # Redimensionnement\n",
    "#    im = tf.image.resize(im, size=(256, 256))\n",
    "#    X_test.append([im])\n",
    "    \n",
    "#X_test = tf.concat(X_test, axis=0)"
   ]
  },
  {
   "cell_type": "code",
   "execution_count": null,
   "metadata": {
    "colab": {
     "base_uri": "https://localhost:8080/"
    },
    "executionInfo": {
     "elapsed": 5521,
     "status": "ok",
     "timestamp": 1624393200905,
     "user": {
      "displayName": "adrien.moreau@outlook.com",
      "photoUrl": "https://lh3.googleusercontent.com/a-/AOh14GhIPRsrERBf3lLtyJxD2dP4-Z0CBqBfHRDL6_xK=s64",
      "userId": "03481180972326007030"
     },
     "user_tz": -120
    },
    "id": "co6o3JlG2Cae",
    "outputId": "53b871b7-c827-4c77-9e99-736ca8cf3172"
   },
   "outputs": [
    {
     "name": "stderr",
     "output_type": "stream",
     "text": [
      "/usr/local/lib/python3.7/dist-packages/ipykernel_launcher.py:23: SettingWithCopyWarning: \n",
      "A value is trying to be set on a copy of a slice from a DataFrame.\n",
      "Try using .loc[row_indexer,col_indexer] = value instead\n",
      "\n",
      "See the caveats in the documentation: https://pandas.pydata.org/pandas-docs/stable/user_guide/indexing.html#returning-a-view-versus-a-copy\n",
      "/usr/local/lib/python3.7/dist-packages/ipykernel_launcher.py:24: SettingWithCopyWarning: \n",
      "A value is trying to be set on a copy of a slice from a DataFrame.\n",
      "Try using .loc[row_indexer,col_indexer] = value instead\n",
      "\n",
      "See the caveats in the documentation: https://pandas.pydata.org/pandas-docs/stable/user_guide/indexing.html#returning-a-view-versus-a-copy\n"
     ]
    },
    {
     "name": "stdout",
     "output_type": "stream",
     "text": [
      "Found 13709 validated image filenames belonging to 5 classes.\n",
      "Found 3428 validated image filenames belonging to 5 classes.\n",
      "Downloading data from https://storage.googleapis.com/keras-applications/efficientnetb1_notop.h5\n",
      "27025408/27018416 [==============================] - 0s 0us/step\n"
     ]
    }
   ],
   "source": [
    "#@tf.function\n",
    "#def load_image(filepath, resize=(256, 256)):\n",
    "#    im = tf.io.read_file(filepath)\n",
    "#    im = tf.image.decode_jpeg(im, channels=3)\n",
    "#    im = tf.image.resize(im, resize)\n",
    "#    return im\n",
    "\n",
    "#dataset_train = tf.data.Dataset.from_tensor_slices((X_train_path, y_train))\n",
    "#dataset_train = dataset_train.map(lambda x, y : [load_image(x),y], num_parallel_calls=-1).batch(64)\n",
    "\n",
    "data_train, data_test = train_test_split(df, test_size=0.2, random_state=42)\n",
    "data_train.head()\n",
    "\n",
    "train_data_generator = ImageDataGenerator(rotation_range=5,\n",
    "                                          width_shift_range = 0.1,\n",
    "                                          height_shift_range = 0.05,\n",
    "                                          zoom_range = 1.1)\n",
    "\n",
    "test_data_generator = ImageDataGenerator()\n",
    "\n",
    "batch_size = 32\n",
    "\n",
    "data_train[\"label\"] = data_train[\"label\"].astype(str)\n",
    "data_test[\"label\"] = data_test[\"label\"].astype(str)\n",
    "\n",
    "train_generator = train_data_generator.flow_from_dataframe(dataframe = data_train, directory=\"\", x_col = \"filepath\", y_col=\"label\", target_size=(256,256), batch_size=batch_size, class_mode='sparse')\n",
    "test_generator = test_data_generator.flow_from_dataframe(dataframe = data_test, directory=\"\", x_col = \"filepath\", y_col=\"label\", target_size=(256,256), batch_size=batch_size, class_mode='sparse')\n",
    "\n",
    "\n",
    "efficientNet = EfficientNetB1(include_top=False, input_shape=(256, 256, 3))\n",
    "for layer in efficientNet.layers[-1:]:\n",
    "    layer.trainable = True\n",
    "\n",
    "model = Sequential()\n",
    "model.add(efficientNet)\n",
    "model.add(GlobalAveragePooling2D())\n",
    "model.add(Dense(units = 1024, activation = 'relu'))\n",
    "model.add(Dropout(0.2))\n",
    "model.add(Dense(units = 512, activation = 'relu'))\n",
    "model.add(Dropout(0.2))\n",
    "model.add(Dense(units = 5, activation = 'softmax'))\n",
    "\n",
    "#model.summary()\n",
    "\n"
   ]
  },
  {
   "cell_type": "code",
   "execution_count": null,
   "metadata": {
    "colab": {
     "base_uri": "https://localhost:8080/"
    },
    "id": "xSVQodHnMsmd",
    "outputId": "750e631e-b43e-440f-9f5b-67c72cd80763"
   },
   "outputs": [
    {
     "name": "stdout",
     "output_type": "stream",
     "text": [
      "Epoch 1/30\n",
      "428/428 [==============================] - 4491s 10s/step - loss: 1.3792 - accuracy: 0.4146 - val_loss: 1.4306 - val_accuracy: 0.4980\n"
     ]
    },
    {
     "name": "stderr",
     "output_type": "stream",
     "text": [
      "/usr/local/lib/python3.7/dist-packages/tensorflow/python/keras/utils/generic_utils.py:497: CustomMaskWarning: Custom mask layers require a config and must override get_config. When loading, the custom mask layer must be passed to the custom_objects argument.\n",
      "  category=CustomMaskWarning)\n"
     ]
    },
    {
     "name": "stdout",
     "output_type": "stream",
     "text": [
      "INFO:tensorflow:Assets written to: /content/gdrive/MyDrive/Colab Notebooks/checkpoint_effnet/assets\n",
      "Epoch 2/30\n",
      "428/428 [==============================] - 305s 712ms/step - loss: 1.2735 - accuracy: 0.4755 - val_loss: 1.0370 - val_accuracy: 0.5879\n"
     ]
    },
    {
     "name": "stderr",
     "output_type": "stream",
     "text": [
      "/usr/local/lib/python3.7/dist-packages/tensorflow/python/keras/utils/generic_utils.py:497: CustomMaskWarning: Custom mask layers require a config and must override get_config. When loading, the custom mask layer must be passed to the custom_objects argument.\n",
      "  category=CustomMaskWarning)\n"
     ]
    },
    {
     "name": "stdout",
     "output_type": "stream",
     "text": [
      "INFO:tensorflow:Assets written to: /content/gdrive/MyDrive/Colab Notebooks/checkpoint_effnet/assets\n",
      "Epoch 3/30\n",
      "428/428 [==============================] - 432s 1s/step - loss: 1.2202 - accuracy: 0.5063 - val_loss: 1.0779 - val_accuracy: 0.5730\n",
      "Epoch 4/30\n",
      "428/428 [==============================] - 314s 732ms/step - loss: 1.1700 - accuracy: 0.5259 - val_loss: 0.9613 - val_accuracy: 0.6268\n"
     ]
    },
    {
     "name": "stderr",
     "output_type": "stream",
     "text": [
      "/usr/local/lib/python3.7/dist-packages/tensorflow/python/keras/utils/generic_utils.py:497: CustomMaskWarning: Custom mask layers require a config and must override get_config. When loading, the custom mask layer must be passed to the custom_objects argument.\n",
      "  category=CustomMaskWarning)\n"
     ]
    },
    {
     "name": "stdout",
     "output_type": "stream",
     "text": [
      "INFO:tensorflow:Assets written to: /content/gdrive/MyDrive/Colab Notebooks/checkpoint_effnet/assets\n",
      "Epoch 5/30\n",
      "428/428 [==============================] - 328s 766ms/step - loss: 1.1407 - accuracy: 0.5385 - val_loss: 1.0289 - val_accuracy: 0.6203\n",
      "Epoch 6/30\n",
      "428/428 [==============================] - 383s 894ms/step - loss: 1.1117 - accuracy: 0.5549 - val_loss: 0.9774 - val_accuracy: 0.6124\n",
      "Epoch 7/30\n",
      "428/428 [==============================] - 412s 961ms/step - loss: 1.0754 - accuracy: 0.5699 - val_loss: 1.0387 - val_accuracy: 0.6387\n",
      "\n",
      "Epoch 00007: ReduceLROnPlateau reducing learning rate to 0.00010000000474974513.\n",
      "Epoch 8/30\n",
      "428/428 [==============================] - 449s 1s/step - loss: 0.9559 - accuracy: 0.6191 - val_loss: 0.7559 - val_accuracy: 0.7097\n"
     ]
    },
    {
     "name": "stderr",
     "output_type": "stream",
     "text": [
      "/usr/local/lib/python3.7/dist-packages/tensorflow/python/keras/utils/generic_utils.py:497: CustomMaskWarning: Custom mask layers require a config and must override get_config. When loading, the custom mask layer must be passed to the custom_objects argument.\n",
      "  category=CustomMaskWarning)\n"
     ]
    },
    {
     "name": "stdout",
     "output_type": "stream",
     "text": [
      "INFO:tensorflow:Assets written to: /content/gdrive/MyDrive/Colab Notebooks/checkpoint_effnet/assets\n",
      "Epoch 9/30\n",
      "428/428 [==============================] - 448s 1s/step - loss: 0.9062 - accuracy: 0.6416 - val_loss: 0.7213 - val_accuracy: 0.7269\n"
     ]
    },
    {
     "name": "stderr",
     "output_type": "stream",
     "text": [
      "/usr/local/lib/python3.7/dist-packages/tensorflow/python/keras/utils/generic_utils.py:497: CustomMaskWarning: Custom mask layers require a config and must override get_config. When loading, the custom mask layer must be passed to the custom_objects argument.\n",
      "  category=CustomMaskWarning)\n"
     ]
    },
    {
     "name": "stdout",
     "output_type": "stream",
     "text": [
      "INFO:tensorflow:Assets written to: /content/gdrive/MyDrive/Colab Notebooks/checkpoint_effnet/assets\n",
      "Epoch 10/30\n",
      "428/428 [==============================] - 309s 720ms/step - loss: 0.8754 - accuracy: 0.6535 - val_loss: 0.7026 - val_accuracy: 0.7334\n"
     ]
    },
    {
     "name": "stderr",
     "output_type": "stream",
     "text": [
      "/usr/local/lib/python3.7/dist-packages/tensorflow/python/keras/utils/generic_utils.py:497: CustomMaskWarning: Custom mask layers require a config and must override get_config. When loading, the custom mask layer must be passed to the custom_objects argument.\n",
      "  category=CustomMaskWarning)\n"
     ]
    },
    {
     "name": "stdout",
     "output_type": "stream",
     "text": [
      "INFO:tensorflow:Assets written to: /content/gdrive/MyDrive/Colab Notebooks/checkpoint_effnet/assets\n",
      "Epoch 11/30\n",
      "428/428 [==============================] - 279s 650ms/step - loss: 0.8594 - accuracy: 0.6616 - val_loss: 0.6828 - val_accuracy: 0.7427\n"
     ]
    },
    {
     "name": "stderr",
     "output_type": "stream",
     "text": [
      "/usr/local/lib/python3.7/dist-packages/tensorflow/python/keras/utils/generic_utils.py:497: CustomMaskWarning: Custom mask layers require a config and must override get_config. When loading, the custom mask layer must be passed to the custom_objects argument.\n",
      "  category=CustomMaskWarning)\n"
     ]
    },
    {
     "name": "stdout",
     "output_type": "stream",
     "text": [
      "INFO:tensorflow:Assets written to: /content/gdrive/MyDrive/Colab Notebooks/checkpoint_effnet/assets\n",
      "Epoch 12/30\n",
      "428/428 [==============================] - 279s 651ms/step - loss: 0.8368 - accuracy: 0.6702 - val_loss: 0.6800 - val_accuracy: 0.7494\n"
     ]
    },
    {
     "name": "stderr",
     "output_type": "stream",
     "text": [
      "/usr/local/lib/python3.7/dist-packages/tensorflow/python/keras/utils/generic_utils.py:497: CustomMaskWarning: Custom mask layers require a config and must override get_config. When loading, the custom mask layer must be passed to the custom_objects argument.\n",
      "  category=CustomMaskWarning)\n"
     ]
    },
    {
     "name": "stdout",
     "output_type": "stream",
     "text": [
      "INFO:tensorflow:Assets written to: /content/gdrive/MyDrive/Colab Notebooks/checkpoint_effnet/assets\n",
      "Epoch 13/30\n",
      "428/428 [==============================] - 280s 654ms/step - loss: 0.8139 - accuracy: 0.6743 - val_loss: 0.6700 - val_accuracy: 0.7520\n"
     ]
    },
    {
     "name": "stderr",
     "output_type": "stream",
     "text": [
      "/usr/local/lib/python3.7/dist-packages/tensorflow/python/keras/utils/generic_utils.py:497: CustomMaskWarning: Custom mask layers require a config and must override get_config. When loading, the custom mask layer must be passed to the custom_objects argument.\n",
      "  category=CustomMaskWarning)\n"
     ]
    },
    {
     "name": "stdout",
     "output_type": "stream",
     "text": [
      "INFO:tensorflow:Assets written to: /content/gdrive/MyDrive/Colab Notebooks/checkpoint_effnet/assets\n",
      "Epoch 14/30\n",
      "428/428 [==============================] - 279s 652ms/step - loss: 0.8096 - accuracy: 0.6766 - val_loss: 0.6733 - val_accuracy: 0.7462\n",
      "Epoch 15/30\n",
      "428/428 [==============================] - 279s 652ms/step - loss: 0.7973 - accuracy: 0.6816 - val_loss: 0.6573 - val_accuracy: 0.7526\n"
     ]
    },
    {
     "name": "stderr",
     "output_type": "stream",
     "text": [
      "/usr/local/lib/python3.7/dist-packages/tensorflow/python/keras/utils/generic_utils.py:497: CustomMaskWarning: Custom mask layers require a config and must override get_config. When loading, the custom mask layer must be passed to the custom_objects argument.\n",
      "  category=CustomMaskWarning)\n"
     ]
    },
    {
     "name": "stdout",
     "output_type": "stream",
     "text": [
      "INFO:tensorflow:Assets written to: /content/gdrive/MyDrive/Colab Notebooks/checkpoint_effnet/assets\n",
      "Epoch 16/30\n",
      "428/428 [==============================] - 279s 650ms/step - loss: 0.7660 - accuracy: 0.6968 - val_loss: 0.6810 - val_accuracy: 0.7564\n",
      "Epoch 17/30\n",
      "428/428 [==============================] - 278s 649ms/step - loss: 0.7685 - accuracy: 0.6962 - val_loss: 0.6381 - val_accuracy: 0.7640\n"
     ]
    },
    {
     "name": "stderr",
     "output_type": "stream",
     "text": [
      "/usr/local/lib/python3.7/dist-packages/tensorflow/python/keras/utils/generic_utils.py:497: CustomMaskWarning: Custom mask layers require a config and must override get_config. When loading, the custom mask layer must be passed to the custom_objects argument.\n",
      "  category=CustomMaskWarning)\n"
     ]
    },
    {
     "name": "stdout",
     "output_type": "stream",
     "text": [
      "INFO:tensorflow:Assets written to: /content/gdrive/MyDrive/Colab Notebooks/checkpoint_effnet/assets\n",
      "Epoch 18/30\n",
      "428/428 [==============================] - 279s 651ms/step - loss: 0.7605 - accuracy: 0.7026 - val_loss: 0.6599 - val_accuracy: 0.7596\n",
      "Epoch 19/30\n",
      "428/428 [==============================] - 279s 652ms/step - loss: 0.7367 - accuracy: 0.7097 - val_loss: 0.6540 - val_accuracy: 0.7623\n",
      "Epoch 20/30\n",
      "428/428 [==============================] - 280s 653ms/step - loss: 0.7270 - accuracy: 0.7115 - val_loss: 0.6757 - val_accuracy: 0.7518\n",
      "\n",
      "Epoch 00020: ReduceLROnPlateau reducing learning rate to 1.0000000474974514e-05.\n",
      "Epoch 21/30\n",
      "428/428 [==============================] - 280s 653ms/step - loss: 0.7111 - accuracy: 0.7194 - val_loss: 0.6525 - val_accuracy: 0.7672\n",
      "Epoch 22/30\n",
      "269/428 [=================>............] - ETA: 1:38 - loss: 0.7130 - accuracy: 0.7165"
     ]
    }
   ],
   "source": [
    "model.compile(optimizer = 'Adam', loss = 'sparse_categorical_crossentropy', metrics = ['accuracy'])\n",
    "\n",
    "lr_plateau = callbacks.ReduceLROnPlateau(monitor = 'val_loss',\n",
    "                                         patience = 3,\n",
    "                                         factor = 0.1,\n",
    "                                         verbose = 2,\n",
    "                                         mode = 'min')\n",
    "\n",
    "early_stopping = callbacks.EarlyStopping(monitor = \"val_loss\",\n",
    "                                         patience = 7,\n",
    "                                         mode = 'min',\n",
    "                                         verbose = 2,\n",
    "                                         restore_best_weights= True)\n",
    "\n",
    "checkpoint = callbacks.ModelCheckpoint(filepath=\"/content/gdrive/MyDrive/Colab Notebooks/test_model_checkpoint_save/model_effnetB1_3_20210623.h5\",\n",
    "                                      monitor = 'val_loss',\n",
    "                                      save_best_only = True,\n",
    "                                      save_weights_only = False,\n",
    "                                      mode = 'min',\n",
    "                                      save_freq = 'epoch')\n",
    "\n",
    "\n",
    "history = model.fit(train_generator, \n",
    "                              epochs = 20,\n",
    "                              steps_per_epoch = len(data_train)//batch_size,\n",
    "                              validation_data = test_generator,\n",
    "                              validation_steps = len(data_test)//batch_size,\n",
    "                              callbacks=[lr_plateau, early_stopping, checkpoint])\n",
    "\n",
    "## custom warning during training :\n",
    "# /usr/local/lib/python3.7/dist-packages/tensorflow/python/keras/utils/generic_utils.py:497: CustomMaskWarning: Custom mask layers require a\n",
    "# config and must override get_config. When loading, the custom mask layer must be passed to the custom_objects argument.\n",
    "# category=CustomMaskWarning)"
   ]
  },
  {
   "cell_type": "code",
   "execution_count": null,
   "metadata": {
    "colab": {
     "base_uri": "https://localhost:8080/",
     "height": 702
    },
    "executionInfo": {
     "elapsed": 857,
     "status": "error",
     "timestamp": 1624370740440,
     "user": {
      "displayName": "adrien.moreau@outlook.com",
      "photoUrl": "https://lh3.googleusercontent.com/a-/AOh14GhIPRsrERBf3lLtyJxD2dP4-Z0CBqBfHRDL6_xK=s64",
      "userId": "03481180972326007030"
     },
     "user_tz": -120
    },
    "id": "Ir2PGNCAJ6xD",
    "outputId": "b6ca3def-5029-473e-9861-28e4d0a79a28"
   },
   "outputs": [
    {
     "ename": "NameError",
     "evalue": "ignored",
     "output_type": "error",
     "traceback": [
      "\u001b[0;31m---------------------------------------------------------------------------\u001b[0m",
      "\u001b[0;31mNameError\u001b[0m                                 Traceback (most recent call last)",
      "\u001b[0;32m<ipython-input-4-5491fb23e39d>\u001b[0m in \u001b[0;36m<module>\u001b[0;34m()\u001b[0m\n\u001b[1;32m      1\u001b[0m \u001b[0mplt\u001b[0m\u001b[0;34m.\u001b[0m\u001b[0mfigure\u001b[0m\u001b[0;34m(\u001b[0m\u001b[0mfigsize\u001b[0m\u001b[0;34m=\u001b[0m\u001b[0;34m(\u001b[0m\u001b[0;36m18\u001b[0m\u001b[0;34m,\u001b[0m\u001b[0;36m8\u001b[0m\u001b[0;34m)\u001b[0m\u001b[0;34m)\u001b[0m\u001b[0;34m\u001b[0m\u001b[0;34m\u001b[0m\u001b[0m\n\u001b[1;32m      2\u001b[0m \u001b[0mplt\u001b[0m\u001b[0;34m.\u001b[0m\u001b[0msubplot\u001b[0m\u001b[0;34m(\u001b[0m\u001b[0;36m121\u001b[0m\u001b[0;34m)\u001b[0m\u001b[0;34m\u001b[0m\u001b[0;34m\u001b[0m\u001b[0m\n\u001b[0;32m----> 3\u001b[0;31m \u001b[0mplt\u001b[0m\u001b[0;34m.\u001b[0m\u001b[0mplot\u001b[0m\u001b[0;34m(\u001b[0m\u001b[0mrange\u001b[0m\u001b[0;34m(\u001b[0m\u001b[0mlen\u001b[0m\u001b[0;34m(\u001b[0m\u001b[0mhistory\u001b[0m\u001b[0;34m.\u001b[0m\u001b[0mhistory\u001b[0m\u001b[0;34m[\u001b[0m\u001b[0;34m'loss'\u001b[0m\u001b[0;34m]\u001b[0m\u001b[0;34m)\u001b[0m\u001b[0;34m)\u001b[0m\u001b[0;34m,\u001b[0m \u001b[0mhistory\u001b[0m\u001b[0;34m.\u001b[0m\u001b[0mhistory\u001b[0m\u001b[0;34m[\u001b[0m\u001b[0;34m'loss'\u001b[0m\u001b[0;34m]\u001b[0m\u001b[0;34m,\u001b[0m \u001b[0mlabel\u001b[0m \u001b[0;34m=\u001b[0m \u001b[0;34m\"training\"\u001b[0m\u001b[0;34m)\u001b[0m\u001b[0;34m\u001b[0m\u001b[0;34m\u001b[0m\u001b[0m\n\u001b[0m\u001b[1;32m      4\u001b[0m \u001b[0mplt\u001b[0m\u001b[0;34m.\u001b[0m\u001b[0mplot\u001b[0m\u001b[0;34m(\u001b[0m\u001b[0mrange\u001b[0m\u001b[0;34m(\u001b[0m\u001b[0mlen\u001b[0m\u001b[0;34m(\u001b[0m\u001b[0mhistory\u001b[0m\u001b[0;34m.\u001b[0m\u001b[0mhistory\u001b[0m\u001b[0;34m[\u001b[0m\u001b[0;34m'val_loss'\u001b[0m\u001b[0;34m]\u001b[0m\u001b[0;34m)\u001b[0m\u001b[0;34m)\u001b[0m\u001b[0;34m,\u001b[0m \u001b[0mhistory\u001b[0m\u001b[0;34m.\u001b[0m\u001b[0mhistory\u001b[0m\u001b[0;34m[\u001b[0m\u001b[0;34m'val_loss'\u001b[0m\u001b[0;34m]\u001b[0m\u001b[0;34m,\u001b[0m \u001b[0mlabel\u001b[0m \u001b[0;34m=\u001b[0m \u001b[0;34m\"validation\"\u001b[0m\u001b[0;34m)\u001b[0m\u001b[0;34m\u001b[0m\u001b[0;34m\u001b[0m\u001b[0m\n\u001b[1;32m      5\u001b[0m \u001b[0mplt\u001b[0m\u001b[0;34m.\u001b[0m\u001b[0mxlabel\u001b[0m\u001b[0;34m(\u001b[0m\u001b[0;34m\"epoch\"\u001b[0m\u001b[0;34m)\u001b[0m\u001b[0;34m\u001b[0m\u001b[0;34m\u001b[0m\u001b[0m\n",
      "\u001b[0;31mNameError\u001b[0m: name 'history' is not defined"
     ]
    },
    {
     "data": {
      "image/png": "[encoded data removed]",
      "text/plain": [
       "<Figure size 1296x576 with 1 Axes>"
      ]
     },
     "metadata": {
      "needs_background": "light",
      "tags": []
     },
     "output_type": "display_data"
    }
   ],
   "source": [
    "plt.figure(figsize=(18,8))\n",
    "plt.subplot(121)\n",
    "plt.plot(range(len(history.history['loss'])), history.history['loss'], label = \"training\")\n",
    "plt.plot(range(len(history.history['val_loss'])), history.history['val_loss'], label = \"validation\")\n",
    "plt.xlabel(\"epoch\")\n",
    "plt.ylabel(\"loss\")\n",
    "plt.title(\"Fonction de perte en fonction de l'epoch\")\n",
    "plt.legend()\n",
    "\n",
    "plt.subplot(122)\n",
    "plt.plot(range(len(history.history['acc'])), history.history['acc'], label = \"training\")\n",
    "plt.plot(range(len(history.history['val_acc'])), history.history['val_acc'], label = \"validation\")\n",
    "plt.xlabel(\"epoch\")\n",
    "plt.ylabel(\"accuracy\")\n",
    "plt.title(\"Accuracy en fonction de l'epoch\")\n",
    "plt.legend();"
   ]
  },
  {
   "cell_type": "code",
   "execution_count": null,
   "metadata": {
    "colab": {
     "base_uri": "https://localhost:8080/"
    },
    "executionInfo": {
     "elapsed": 1099,
     "status": "ok",
     "timestamp": 1624440417369,
     "user": {
      "displayName": "adrien.moreau@outlook.com",
      "photoUrl": "https://lh3.googleusercontent.com/a-/AOh14GhIPRsrERBf3lLtyJxD2dP4-Z0CBqBfHRDL6_xK=s64",
      "userId": "03481180972326007030"
     },
     "user_tz": -120
    },
    "id": "FyQ2xdnmJu3t",
    "outputId": "5de8e288-0a67-42d0-fb72-3d671269b14b"
   },
   "outputs": [
    {
     "name": "stderr",
     "output_type": "stream",
     "text": [
      "/usr/local/lib/python3.7/dist-packages/tensorflow/python/keras/utils/generic_utils.py:497: CustomMaskWarning: Custom mask layers require a config and must override get_config. When loading, the custom mask layer must be passed to the custom_objects argument.\n",
      "  category=CustomMaskWarning)\n"
     ]
    }
   ],
   "source": [
    "### Set the path and name you want !\n",
    "##\n",
    "#\n",
    "save_name = \"/content/gdrive/MyDrive/Colab Notebooks/model_effnetB1_GPU_colab_20210622.h5\"\n",
    "#\n",
    "##\n",
    "###\n",
    "\n",
    "\n",
    "new_model.save(save_name)\n",
    "\n",
    "## found on stackoverflow\n",
    "#loaded_model = create_model()\n",
    "#loaded_model.load_weights(filepath)\n",
    "#y_pred = loaded.model.<predict_method>(test_set,verbose=<val>)"
   ]
  }
 ],
 "metadata": {
  "colab": {
   "authorship_tag": "ABX9TyPLQ5QmvSBBOlLV1DENxzJa",
   "collapsed_sections": [],
   "name": "20210622_model_effnet-datagenerator_unfreeze_GPU_colab",
   "provenance": [
    {
     "file_id": "1Y52sSy9d5ghyR3skvB5R5OHaN7XrBKRB",
     "timestamp": 1624355372649
    }
   ]
  },
  "kernelspec": {
   "display_name": "Python 3",
   "language": "python",
   "name": "python3"
  },
  "language_info": {
   "codemirror_mode": {
    "name": "ipython",
    "version": 3
   },
   "file_extension": ".py",
   "mimetype": "text/x-python",
   "name": "python",
   "nbconvert_exporter": "python",
   "pygments_lexer": "ipython3",
   "version": "3.8.5"
  }
 },
 "nbformat": 4,
 "nbformat_minor": 1
}
