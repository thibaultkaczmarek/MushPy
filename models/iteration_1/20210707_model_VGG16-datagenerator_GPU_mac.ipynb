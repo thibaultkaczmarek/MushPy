{
 "cells": [
  {
   "cell_type": "markdown",
   "metadata": {},
   "source": [
    "# Import function of interest"
   ]
  },
  {
   "cell_type": "code",
   "execution_count": 4,
   "metadata": {},
   "outputs": [],
   "source": [
    "import os\n",
    "os.environ[\"KERAS_BACKEND\"] = \"plaidml.keras.backend\"\n",
    "\n",
    "import pandas as pd\n",
    "import numpy as np\n",
    "from tqdm import tqdm\n",
    "import itertools # Pour créer des iterateurs\n",
    "\n",
    "import matplotlib.pyplot as plt  # Pour l'affichage d'images\n",
    "\n",
    "from sklearn.model_selection import train_test_split\n",
    "from sklearn.metrics import accuracy_score, f1_score, confusion_matrix\n",
    "from sklearn import metrics\n",
    "\n",
    "import tensorflow as tf\n",
    "#import Keras\n",
    "#from tensorflow.keras.applications import EfficientNetB1\n",
    "#from tensorflow.keras.preprocessing.image import ImageDataGenerator\n",
    "#from tensorflow.keras.layers import Dense, GlobalAveragePooling2D, Dropout, Conv2D, MaxPooling2D, BatchNormalization, LeakyReLU, Flatten\n",
    "#from tensorflow.keras.models import Model, Sequential, load_model\n",
    "#from tensorflow.keras import callbacks\n",
    "\n",
    "from keras.applications import VGG16\n",
    "from keras.preprocessing.image import ImageDataGenerator\n",
    "from keras.layers import Dense, GlobalAveragePooling2D, Dropout, Conv2D, MaxPooling2D, BatchNormalization, LeakyReLU, Flatten\n",
    "from keras.models import Model, Sequential, load_model\n",
    "from keras import callbacks\n",
    "\n",
    "%matplotlib inline"
   ]
  },
  {
   "cell_type": "markdown",
   "metadata": {},
   "source": [
    "# Set path(s) :"
   ]
  },
  {
   "cell_type": "code",
   "execution_count": 5,
   "metadata": {},
   "outputs": [],
   "source": [
    "csv_5fam = \"/Users/Adrien/DataScientist/projet_Mushroom/reduced_dataset_5_families.csv\""
   ]
  },
  {
   "cell_type": "markdown",
   "metadata": {},
   "source": [
    "### Load data:"
   ]
  },
  {
   "cell_type": "code",
   "execution_count": 6,
   "metadata": {},
   "outputs": [
    {
     "data": {
      "text/html": [
       "<div>\n",
       "<style scoped>\n",
       "    .dataframe tbody tr th:only-of-type {\n",
       "        vertical-align: middle;\n",
       "    }\n",
       "\n",
       "    .dataframe tbody tr th {\n",
       "        vertical-align: top;\n",
       "    }\n",
       "\n",
       "    .dataframe thead th {\n",
       "        text-align: right;\n",
       "    }\n",
       "</style>\n",
       "<table border=\"1\" class=\"dataframe\">\n",
       "  <thead>\n",
       "    <tr style=\"text-align: right;\">\n",
       "      <th></th>\n",
       "      <th>image_id</th>\n",
       "      <th>image_url</th>\n",
       "      <th>family</th>\n",
       "      <th>filepath</th>\n",
       "      <th>label</th>\n",
       "    </tr>\n",
       "  </thead>\n",
       "  <tbody>\n",
       "    <tr>\n",
       "      <th>0</th>\n",
       "      <td>28</td>\n",
       "      <td>http://mushroomobserver.org/images/320/28</td>\n",
       "      <td>Inocybaceae</td>\n",
       "      <td>/Users/Adrien/DataScientist/projet_Mushroom/im...</td>\n",
       "      <td>0</td>\n",
       "    </tr>\n",
       "    <tr>\n",
       "      <th>1</th>\n",
       "      <td>86</td>\n",
       "      <td>http://mushroomobserver.org/images/320/86</td>\n",
       "      <td>Physalacriaceae</td>\n",
       "      <td>/Users/Adrien/DataScientist/projet_Mushroom/im...</td>\n",
       "      <td>3</td>\n",
       "    </tr>\n",
       "    <tr>\n",
       "      <th>2</th>\n",
       "      <td>87</td>\n",
       "      <td>http://mushroomobserver.org/images/320/87</td>\n",
       "      <td>Physalacriaceae</td>\n",
       "      <td>/Users/Adrien/DataScientist/projet_Mushroom/im...</td>\n",
       "      <td>3</td>\n",
       "    </tr>\n",
       "    <tr>\n",
       "      <th>3</th>\n",
       "      <td>126</td>\n",
       "      <td>http://mushroomobserver.org/images/320/126</td>\n",
       "      <td>Omphalotaceae</td>\n",
       "      <td>/Users/Adrien/DataScientist/projet_Mushroom/im...</td>\n",
       "      <td>1</td>\n",
       "    </tr>\n",
       "    <tr>\n",
       "      <th>4</th>\n",
       "      <td>128</td>\n",
       "      <td>http://mushroomobserver.org/images/320/128</td>\n",
       "      <td>Omphalotaceae</td>\n",
       "      <td>/Users/Adrien/DataScientist/projet_Mushroom/im...</td>\n",
       "      <td>1</td>\n",
       "    </tr>\n",
       "  </tbody>\n",
       "</table>\n",
       "</div>"
      ],
      "text/plain": [
       "   image_id                                   image_url           family  \\\n",
       "0        28   http://mushroomobserver.org/images/320/28      Inocybaceae   \n",
       "1        86   http://mushroomobserver.org/images/320/86  Physalacriaceae   \n",
       "2        87   http://mushroomobserver.org/images/320/87  Physalacriaceae   \n",
       "3       126  http://mushroomobserver.org/images/320/126    Omphalotaceae   \n",
       "4       128  http://mushroomobserver.org/images/320/128    Omphalotaceae   \n",
       "\n",
       "                                            filepath  label  \n",
       "0  /Users/Adrien/DataScientist/projet_Mushroom/im...      0  \n",
       "1  /Users/Adrien/DataScientist/projet_Mushroom/im...      3  \n",
       "2  /Users/Adrien/DataScientist/projet_Mushroom/im...      3  \n",
       "3  /Users/Adrien/DataScientist/projet_Mushroom/im...      1  \n",
       "4  /Users/Adrien/DataScientist/projet_Mushroom/im...      1  "
      ]
     },
     "execution_count": 6,
     "metadata": {},
     "output_type": "execute_result"
    }
   ],
   "source": [
    "df = pd.read_csv(csv_5fam)\n",
    "\n",
    "df.head()"
   ]
  },
  {
   "cell_type": "markdown",
   "metadata": {},
   "source": [
    "### Split data :"
   ]
  },
  {
   "cell_type": "code",
   "execution_count": 7,
   "metadata": {},
   "outputs": [
    {
     "data": {
      "text/html": [
       "<div>\n",
       "<style scoped>\n",
       "    .dataframe tbody tr th:only-of-type {\n",
       "        vertical-align: middle;\n",
       "    }\n",
       "\n",
       "    .dataframe tbody tr th {\n",
       "        vertical-align: top;\n",
       "    }\n",
       "\n",
       "    .dataframe thead th {\n",
       "        text-align: right;\n",
       "    }\n",
       "</style>\n",
       "<table border=\"1\" class=\"dataframe\">\n",
       "  <thead>\n",
       "    <tr style=\"text-align: right;\">\n",
       "      <th></th>\n",
       "      <th>family</th>\n",
       "      <th>filepath</th>\n",
       "      <th>label</th>\n",
       "    </tr>\n",
       "  </thead>\n",
       "  <tbody>\n",
       "    <tr>\n",
       "      <th>3946</th>\n",
       "      <td>Fomitopsidaceae</td>\n",
       "      <td>/Users/Adrien/DataScientist/projet_Mushroom/im...</td>\n",
       "      <td>2</td>\n",
       "    </tr>\n",
       "    <tr>\n",
       "      <th>12669</th>\n",
       "      <td>Omphalotaceae</td>\n",
       "      <td>/Users/Adrien/DataScientist/projet_Mushroom/im...</td>\n",
       "      <td>1</td>\n",
       "    </tr>\n",
       "    <tr>\n",
       "      <th>8382</th>\n",
       "      <td>Omphalotaceae</td>\n",
       "      <td>/Users/Adrien/DataScientist/projet_Mushroom/im...</td>\n",
       "      <td>1</td>\n",
       "    </tr>\n",
       "    <tr>\n",
       "      <th>12482</th>\n",
       "      <td>Omphalotaceae</td>\n",
       "      <td>/Users/Adrien/DataScientist/projet_Mushroom/im...</td>\n",
       "      <td>1</td>\n",
       "    </tr>\n",
       "    <tr>\n",
       "      <th>4201</th>\n",
       "      <td>Physalacriaceae</td>\n",
       "      <td>/Users/Adrien/DataScientist/projet_Mushroom/im...</td>\n",
       "      <td>3</td>\n",
       "    </tr>\n",
       "  </tbody>\n",
       "</table>\n",
       "</div>"
      ],
      "text/plain": [
       "                family                                           filepath  \\\n",
       "3946   Fomitopsidaceae  /Users/Adrien/DataScientist/projet_Mushroom/im...   \n",
       "12669    Omphalotaceae  /Users/Adrien/DataScientist/projet_Mushroom/im...   \n",
       "8382     Omphalotaceae  /Users/Adrien/DataScientist/projet_Mushroom/im...   \n",
       "12482    Omphalotaceae  /Users/Adrien/DataScientist/projet_Mushroom/im...   \n",
       "4201   Physalacriaceae  /Users/Adrien/DataScientist/projet_Mushroom/im...   \n",
       "\n",
       "       label  \n",
       "3946       2  \n",
       "12669      1  \n",
       "8382       1  \n",
       "12482      1  \n",
       "4201       3  "
      ]
     },
     "execution_count": 7,
     "metadata": {},
     "output_type": "execute_result"
    }
   ],
   "source": [
    "df2 = df.drop(['image_id', 'image_url'], axis=1)\n",
    "data_train, data_test = train_test_split(df2, test_size=0.2, random_state=123)\n",
    "data_train.head()"
   ]
  },
  {
   "cell_type": "markdown",
   "metadata": {},
   "source": [
    "### Define the ImageDataGenerator"
   ]
  },
  {
   "cell_type": "code",
   "execution_count": 9,
   "metadata": {},
   "outputs": [],
   "source": [
    "from tensorflow.keras.applications.vgg16 import preprocess_input\n",
    "\n",
    "train_data_generator = ImageDataGenerator(preprocessing_function=preprocess_input,\n",
    "                                          rotation_range=10,\n",
    "                                          width_shift_range = 0.1,\n",
    "                                          height_shift_range = 0.1,\n",
    "                                          zoom_range = 1.1,\n",
    "                                          horizontal_flip = True)\n",
    "\n",
    "test_data_generator = ImageDataGenerator(preprocessing_function=preprocess_input)"
   ]
  },
  {
   "cell_type": "markdown",
   "metadata": {},
   "source": [
    "# Prepare images "
   ]
  },
  {
   "cell_type": "code",
   "execution_count": 10,
   "metadata": {},
   "outputs": [
    {
     "name": "stderr",
     "output_type": "stream",
     "text": [
      "/Users/Adrien/opt/anaconda3/envs/transfer_learning_GPU/lib/python3.6/site-packages/ipykernel_launcher.py:3: SettingWithCopyWarning: \n",
      "A value is trying to be set on a copy of a slice from a DataFrame.\n",
      "Try using .loc[row_indexer,col_indexer] = value instead\n",
      "\n",
      "See the caveats in the documentation: https://pandas.pydata.org/pandas-docs/stable/user_guide/indexing.html#returning-a-view-versus-a-copy\n",
      "  This is separate from the ipykernel package so we can avoid doing imports until\n",
      "/Users/Adrien/opt/anaconda3/envs/transfer_learning_GPU/lib/python3.6/site-packages/ipykernel_launcher.py:4: SettingWithCopyWarning: \n",
      "A value is trying to be set on a copy of a slice from a DataFrame.\n",
      "Try using .loc[row_indexer,col_indexer] = value instead\n",
      "\n",
      "See the caveats in the documentation: https://pandas.pydata.org/pandas-docs/stable/user_guide/indexing.html#returning-a-view-versus-a-copy\n",
      "  after removing the cwd from sys.path.\n"
     ]
    },
    {
     "name": "stdout",
     "output_type": "stream",
     "text": [
      "Found 13709 validated image filenames belonging to 5 classes.\n",
      "Found 3428 validated image filenames belonging to 5 classes.\n"
     ]
    }
   ],
   "source": [
    "batch_size = 64\n",
    "\n",
    "data_train[\"label\"] = data_train[\"label\"].astype(str)\n",
    "data_test[\"label\"] = data_test[\"label\"].astype(str)\n",
    "\n",
    "train_generator = train_data_generator.flow_from_dataframe(dataframe = data_train, directory=\"\", x_col = \"filepath\", y_col=\"label\", target_size=(256,256), batch_size=batch_size, class_mode='sparse')\n",
    "test_generator = test_data_generator.flow_from_dataframe(dataframe = data_test, directory=\"\", x_col = \"filepath\", y_col=\"label\", target_size=(256,256), batch_size=batch_size, class_mode='sparse')\n"
   ]
  },
  {
   "cell_type": "markdown",
   "metadata": {},
   "source": [
    "### Load VGG16 pretrained model and freeze layers"
   ]
  },
  {
   "cell_type": "code",
   "execution_count": 11,
   "metadata": {},
   "outputs": [
    {
     "name": "stderr",
     "output_type": "stream",
     "text": [
      "INFO:plaidml:Opening device \"metal_amd_radeon_pro_5500m.0\"\n"
     ]
    }
   ],
   "source": [
    "vgg16 = VGG16(include_top=False, input_shape=(256, 256, 3))\n",
    "for layer in vgg16.layers:\n",
    "    layer.trainable = False\n",
    "\n",
    "#vgg16.summary()"
   ]
  },
  {
   "cell_type": "markdown",
   "metadata": {},
   "source": [
    "### Define the training model : (sequential)"
   ]
  },
  {
   "cell_type": "code",
   "execution_count": 14,
   "metadata": {},
   "outputs": [],
   "source": [
    "model_vgg16 = Sequential()\n",
    "model_vgg16.add(vgg16)\n",
    "model_vgg16.add(GlobalAveragePooling2D())\n",
    "model_vgg16.add(Dense(units = 1024, activation = 'relu'))\n",
    "model_vgg16.add(Dropout(0.3))\n",
    "model_vgg16.add(Dense(units = 512, activation = 'relu'))\n",
    "model_vgg16.add(Dropout(0.5))\n",
    "model_vgg16.add(Dense(units = 5, activation = 'softmax'))\n",
    "\n",
    "#model_vgg16.summary()"
   ]
  },
  {
   "cell_type": "markdown",
   "metadata": {},
   "source": [
    "### Compile and train the model"
   ]
  },
  {
   "cell_type": "code",
   "execution_count": 15,
   "metadata": {
    "scrolled": false
   },
   "outputs": [
    {
     "name": "stdout",
     "output_type": "stream",
     "text": [
      "Epoch 1/40\n",
      "214/214 [==============================] - 942s 4s/step - loss: 1.7089 - acc: 0.3207 - val_loss: 1.2450 - val_acc: 0.4811\n",
      "Epoch 2/40\n",
      "214/214 [==============================] - 1067s 5s/step - loss: 1.5010 - acc: 0.3544 - val_loss: 1.1577 - val_acc: 0.5244\n",
      "Epoch 3/40\n",
      "214/214 [==============================] - 765s 4s/step - loss: 1.3861 - acc: 0.3917 - val_loss: 1.1693 - val_acc: 0.5398\n",
      "Epoch 4/40\n",
      "214/214 [==============================] - 936s 4s/step - loss: 1.3554 - acc: 0.4212 - val_loss: 1.0857 - val_acc: 0.5547\n",
      "Epoch 5/40\n",
      "214/214 [==============================] - 746s 3s/step - loss: 1.3316 - acc: 0.4219 - val_loss: 1.0949 - val_acc: 0.5595\n",
      "Epoch 6/40\n",
      "214/214 [==============================] - 848s 4s/step - loss: 1.3275 - acc: 0.4247 - val_loss: 1.0734 - val_acc: 0.5782\n",
      "Epoch 7/40\n",
      "214/214 [==============================] - 922s 4s/step - loss: 1.3192 - acc: 0.4344 - val_loss: 1.0545 - val_acc: 0.5800\n",
      "Epoch 8/40\n",
      "214/214 [==============================] - 888s 4s/step - loss: 1.3089 - acc: 0.4382 - val_loss: 1.0472 - val_acc: 0.5719\n",
      "Epoch 9/40\n",
      "214/214 [==============================] - 701s 3s/step - loss: 1.2947 - acc: 0.4452 - val_loss: 1.0275 - val_acc: 0.5951\n",
      "Epoch 10/40\n",
      "214/214 [==============================] - 687s 3s/step - loss: 1.2812 - acc: 0.4555 - val_loss: 1.0154 - val_acc: 0.5975\n",
      "Epoch 11/40\n",
      "214/214 [==============================] - 751s 4s/step - loss: 1.2729 - acc: 0.4636 - val_loss: 1.0214 - val_acc: 0.5936\n",
      "Epoch 12/40\n",
      "214/214 [==============================] - 905s 4s/step - loss: 1.2803 - acc: 0.4578 - val_loss: 1.0157 - val_acc: 0.5895\n",
      "Epoch 13/40\n",
      "214/214 [==============================] - 779s 4s/step - loss: 1.2702 - acc: 0.4589 - val_loss: 1.0184 - val_acc: 0.5957\n",
      "Epoch 14/40\n",
      "214/214 [==============================] - 672s 3s/step - loss: 1.2488 - acc: 0.4754 - val_loss: 1.0147 - val_acc: 0.5927\n",
      "Epoch 15/40\n",
      "214/214 [==============================] - 823s 4s/step - loss: 1.2639 - acc: 0.4700 - val_loss: 0.9873 - val_acc: 0.6052\n",
      "Epoch 16/40\n",
      "214/214 [==============================] - 787s 4s/step - loss: 1.2452 - acc: 0.4751 - val_loss: 0.9953 - val_acc: 0.6040\n",
      "Epoch 17/40\n",
      "214/214 [==============================] - 675s 3s/step - loss: 1.2519 - acc: 0.4748 - val_loss: 0.9873 - val_acc: 0.5996\n",
      "Epoch 18/40\n",
      "214/214 [==============================] - 773s 4s/step - loss: 1.2401 - acc: 0.4795 - val_loss: 0.9870 - val_acc: 0.6150\n",
      "Epoch 19/40\n",
      "214/214 [==============================] - 762s 4s/step - loss: 1.2413 - acc: 0.4767 - val_loss: 0.9613 - val_acc: 0.6150\n",
      "Epoch 20/40\n",
      "214/214 [==============================] - 698s 3s/step - loss: 1.2286 - acc: 0.4814 - val_loss: 0.9543 - val_acc: 0.6207\n",
      "Epoch 21/40\n",
      "214/214 [==============================] - 693s 3s/step - loss: 1.2421 - acc: 0.4782 - val_loss: 0.9869 - val_acc: 0.6207\n",
      "Epoch 22/40\n",
      "214/214 [==============================] - 689s 3s/step - loss: 1.2323 - acc: 0.4805 - val_loss: 0.9498 - val_acc: 0.6198\n",
      "Epoch 23/40\n",
      "214/214 [==============================] - 714s 3s/step - loss: 1.2273 - acc: 0.4839 - val_loss: 0.9825 - val_acc: 0.6156\n",
      "Epoch 24/40\n",
      "214/214 [==============================] - 686s 3s/step - loss: 1.2289 - acc: 0.4819 - val_loss: 0.9565 - val_acc: 0.6201\n",
      "Epoch 25/40\n",
      "214/214 [==============================] - 649s 3s/step - loss: 1.2180 - acc: 0.4913 - val_loss: 1.0027 - val_acc: 0.5978\n",
      "Epoch 26/40\n",
      "214/214 [==============================] - 641s 3s/step - loss: 1.2178 - acc: 0.4898 - val_loss: 0.9525 - val_acc: 0.6186\n",
      "Epoch 27/40\n",
      "214/214 [==============================] - 639s 3s/step - loss: 1.2116 - acc: 0.4973 - val_loss: 0.9776 - val_acc: 0.6231\n",
      "Epoch 28/40\n",
      "214/214 [==============================] - 633s 3s/step - loss: 1.2067 - acc: 0.4908 - val_loss: 0.9513 - val_acc: 0.6234\n",
      "Epoch 29/40\n",
      "214/214 [==============================] - 630s 3s/step - loss: 1.2121 - acc: 0.4903 - val_loss: 0.9502 - val_acc: 0.6302\n",
      "Epoch 30/40\n",
      "214/214 [==============================] - 638s 3s/step - loss: 1.2100 - acc: 0.4937 - val_loss: 0.9599 - val_acc: 0.6141\n",
      "Epoch 31/40\n",
      "214/214 [==============================] - 628s 3s/step - loss: 1.1944 - acc: 0.4981 - val_loss: 0.9137 - val_acc: 0.6379\n",
      "Epoch 32/40\n",
      "214/214 [==============================] - 632s 3s/step - loss: 1.1951 - acc: 0.4952 - val_loss: 0.9679 - val_acc: 0.6159\n",
      "Epoch 33/40\n",
      "214/214 [==============================] - 623s 3s/step - loss: 1.1957 - acc: 0.5031 - val_loss: 0.9187 - val_acc: 0.6489\n",
      "Epoch 34/40\n",
      "214/214 [==============================] - 624s 3s/step - loss: 1.2008 - acc: 0.4971 - val_loss: 0.9335 - val_acc: 0.6269\n",
      "Epoch 35/40\n",
      "214/214 [==============================] - 622s 3s/step - loss: 1.2011 - acc: 0.4943 - val_loss: 0.9283 - val_acc: 0.6341\n",
      "Epoch 36/40\n",
      "214/214 [==============================] - 621s 3s/step - loss: 1.1924 - acc: 0.5006 - val_loss: 0.9689 - val_acc: 0.6225\n",
      "Epoch 37/40\n",
      "214/214 [==============================] - 626s 3s/step - loss: 1.1860 - acc: 0.5095 - val_loss: 0.9104 - val_acc: 0.6480\n",
      "Epoch 38/40\n",
      "214/214 [==============================] - 619s 3s/step - loss: 1.1950 - acc: 0.4974 - val_loss: 0.9457 - val_acc: 0.6293\n",
      "Epoch 39/40\n",
      "214/214 [==============================] - 619s 3s/step - loss: 1.1904 - acc: 0.5038 - val_loss: 0.9135 - val_acc: 0.6471\n",
      "Epoch 40/40\n",
      "214/214 [==============================] - 619s 3s/step - loss: 1.1877 - acc: 0.5045 - val_loss: 0.9365 - val_acc: 0.6281\n"
     ]
    }
   ],
   "source": [
    "model_vgg16.compile(optimizer = 'adam', loss = 'sparse_categorical_crossentropy', metrics = ['accuracy'])\n",
    "\n",
    "history_vgg16 = model_vgg16.fit_generator(generator=train_generator, \n",
    "                                epochs = 40,\n",
    "                                steps_per_epoch = len(data_train)//batch_size,\n",
    "                                validation_data = test_generator,\n",
    "                                validation_steps = len(data_test)//batch_size)"
   ]
  },
  {
   "cell_type": "markdown",
   "metadata": {},
   "source": [
    "# Plot the training history"
   ]
  },
  {
   "cell_type": "code",
   "execution_count": 16,
   "metadata": {},
   "outputs": [
    {
     "data": {
      "image/png": "[encoded data removed]",
      "text/plain": [
       "<Figure size 1296x576 with 2 Axes>"
      ]
     },
     "metadata": {
      "needs_background": "light"
     },
     "output_type": "display_data"
    }
   ],
   "source": [
    "plt.figure(figsize=(18,8))\n",
    "plt.subplot(121)\n",
    "plt.plot(range(len(history_vgg16.history['loss'])), history_vgg16.history['loss'], label = \"training\")\n",
    "plt.plot(range(len(history_vgg16.history['val_loss'])), history_vgg16.history['val_loss'], label = \"validation\")\n",
    "plt.xlabel(\"epoch\")\n",
    "plt.ylabel(\"loss\")\n",
    "plt.title(\"Fonction de perte en fonction de l'epoch\")\n",
    "plt.legend()\n",
    "\n",
    "plt.subplot(122)\n",
    "plt.plot(range(len(history_vgg16.history['acc'])), history_vgg16.history['acc'], label = \"training\")\n",
    "plt.plot(range(len(history_vgg16.history['val_acc'])), history_vgg16.history['val_acc'], label = \"validation\")\n",
    "plt.xlabel(\"epoch\")\n",
    "plt.ylabel(\"accuracy\")\n",
    "plt.title(\"Accuracy en fonction de l'epoch\")\n",
    "plt.legend();"
   ]
  },
  {
   "cell_type": "markdown",
   "metadata": {},
   "source": [
    "### Save the model :\n",
    "\n",
    "- permet de continuer l'entrainement...\n",
    "- reloader pour faire des prédictions plus tard..."
   ]
  },
  {
   "cell_type": "code",
   "execution_count": 17,
   "metadata": {},
   "outputs": [],
   "source": [
    "### Set the path and name you want !\n",
    "##\n",
    "#\n",
    "save_name = \"/Users/Adrien/DataScientist/projet_Mushroom/model_vgg16_GPU_20210617.h5\"\n",
    "#\n",
    "##\n",
    "###\n",
    "\n",
    "\n",
    "model_vgg16.save(save_name)"
   ]
  }
 ],
 "metadata": {
  "kernelspec": {
   "display_name": "Python 3",
   "language": "python",
   "name": "python3"
  },
  "language_info": {
   "codemirror_mode": {
    "name": "ipython",
    "version": 3
   },
   "file_extension": ".py",
   "mimetype": "text/x-python",
   "name": "python",
   "nbconvert_exporter": "python",
   "pygments_lexer": "ipython3",
   "version": "3.8.5"
  }
 },
 "nbformat": 4,
 "nbformat_minor": 4
}
