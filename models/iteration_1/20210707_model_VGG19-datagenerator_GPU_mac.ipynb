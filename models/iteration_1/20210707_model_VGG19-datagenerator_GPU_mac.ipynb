{
 "cells": [
  {
   "cell_type": "markdown",
   "metadata": {},
   "source": [
    "# Import function of interest"
   ]
  },
  {
   "cell_type": "code",
   "execution_count": 3,
   "metadata": {},
   "outputs": [],
   "source": [
    "import os\n",
    "os.environ[\"KERAS_BACKEND\"] = \"plaidml.keras.backend\"\n",
    "\n",
    "import pandas as pd\n",
    "import numpy as np\n",
    "from tqdm import tqdm\n",
    "import itertools\n",
    "\n",
    "import matplotlib.pyplot as plt  # Pour l'affichage d'images\n",
    "from matplotlib import cm # Pour importer de nouvelles cartes de couleur\n",
    "\n",
    "from sklearn.model_selection import train_test_split, GridSearchCV, cross_val_score\n",
    "from sklearn.ensemble import RandomForestClassifier # Pour instancier et entraîner un modèle Random Forest\n",
    "from sklearn.metrics import accuracy_score, f1_score, confusion_matrix\n",
    "from sklearn import metrics\n",
    "\n",
    "from PIL import Image\n",
    "\n",
    "import tensorflow as tf\n",
    "import keras\n",
    "from keras.applications import VGG19\n",
    "from keras.preprocessing.image import ImageDataGenerator\n",
    "from keras.layers import Dense, GlobalAveragePooling2D, Dropout, Conv2D, MaxPooling2D, BatchNormalization, LeakyReLU, Flatten\n",
    "from keras.models import Model, Sequential, load_model\n",
    "from keras import callbacks\n",
    "\n",
    "%matplotlib inline"
   ]
  },
  {
   "cell_type": "markdown",
   "metadata": {},
   "source": [
    "# Set path(s) :"
   ]
  },
  {
   "cell_type": "code",
   "execution_count": 4,
   "metadata": {},
   "outputs": [],
   "source": [
    "csv_5fam = \"/Users/Adrien/DataScientist/projet_Mushroom/reduced_dataset_5_families.csv\""
   ]
  },
  {
   "cell_type": "markdown",
   "metadata": {},
   "source": [
    "### Load data:"
   ]
  },
  {
   "cell_type": "code",
   "execution_count": 5,
   "metadata": {},
   "outputs": [
    {
     "data": {
      "text/html": [
       "<div>\n",
       "<style scoped>\n",
       "    .dataframe tbody tr th:only-of-type {\n",
       "        vertical-align: middle;\n",
       "    }\n",
       "\n",
       "    .dataframe tbody tr th {\n",
       "        vertical-align: top;\n",
       "    }\n",
       "\n",
       "    .dataframe thead th {\n",
       "        text-align: right;\n",
       "    }\n",
       "</style>\n",
       "<table border=\"1\" class=\"dataframe\">\n",
       "  <thead>\n",
       "    <tr style=\"text-align: right;\">\n",
       "      <th></th>\n",
       "      <th>image_id</th>\n",
       "      <th>image_url</th>\n",
       "      <th>family</th>\n",
       "      <th>filepath</th>\n",
       "      <th>label</th>\n",
       "    </tr>\n",
       "  </thead>\n",
       "  <tbody>\n",
       "    <tr>\n",
       "      <th>0</th>\n",
       "      <td>28</td>\n",
       "      <td>http://mushroomobserver.org/images/320/28</td>\n",
       "      <td>Inocybaceae</td>\n",
       "      <td>/Users/Adrien/DataScientist/projet_Mushroom/im...</td>\n",
       "      <td>0</td>\n",
       "    </tr>\n",
       "    <tr>\n",
       "      <th>1</th>\n",
       "      <td>86</td>\n",
       "      <td>http://mushroomobserver.org/images/320/86</td>\n",
       "      <td>Physalacriaceae</td>\n",
       "      <td>/Users/Adrien/DataScientist/projet_Mushroom/im...</td>\n",
       "      <td>3</td>\n",
       "    </tr>\n",
       "    <tr>\n",
       "      <th>2</th>\n",
       "      <td>87</td>\n",
       "      <td>http://mushroomobserver.org/images/320/87</td>\n",
       "      <td>Physalacriaceae</td>\n",
       "      <td>/Users/Adrien/DataScientist/projet_Mushroom/im...</td>\n",
       "      <td>3</td>\n",
       "    </tr>\n",
       "    <tr>\n",
       "      <th>3</th>\n",
       "      <td>126</td>\n",
       "      <td>http://mushroomobserver.org/images/320/126</td>\n",
       "      <td>Omphalotaceae</td>\n",
       "      <td>/Users/Adrien/DataScientist/projet_Mushroom/im...</td>\n",
       "      <td>1</td>\n",
       "    </tr>\n",
       "    <tr>\n",
       "      <th>4</th>\n",
       "      <td>128</td>\n",
       "      <td>http://mushroomobserver.org/images/320/128</td>\n",
       "      <td>Omphalotaceae</td>\n",
       "      <td>/Users/Adrien/DataScientist/projet_Mushroom/im...</td>\n",
       "      <td>1</td>\n",
       "    </tr>\n",
       "  </tbody>\n",
       "</table>\n",
       "</div>"
      ],
      "text/plain": [
       "   image_id                                   image_url           family  \\\n",
       "0        28   http://mushroomobserver.org/images/320/28      Inocybaceae   \n",
       "1        86   http://mushroomobserver.org/images/320/86  Physalacriaceae   \n",
       "2        87   http://mushroomobserver.org/images/320/87  Physalacriaceae   \n",
       "3       126  http://mushroomobserver.org/images/320/126    Omphalotaceae   \n",
       "4       128  http://mushroomobserver.org/images/320/128    Omphalotaceae   \n",
       "\n",
       "                                            filepath  label  \n",
       "0  /Users/Adrien/DataScientist/projet_Mushroom/im...      0  \n",
       "1  /Users/Adrien/DataScientist/projet_Mushroom/im...      3  \n",
       "2  /Users/Adrien/DataScientist/projet_Mushroom/im...      3  \n",
       "3  /Users/Adrien/DataScientist/projet_Mushroom/im...      1  \n",
       "4  /Users/Adrien/DataScientist/projet_Mushroom/im...      1  "
      ]
     },
     "execution_count": 5,
     "metadata": {},
     "output_type": "execute_result"
    }
   ],
   "source": [
    "df = pd.read_csv(csv_5fam)\n",
    "\n",
    "df.head()"
   ]
  },
  {
   "cell_type": "markdown",
   "metadata": {},
   "source": [
    "### Split data :"
   ]
  },
  {
   "cell_type": "code",
   "execution_count": 6,
   "metadata": {},
   "outputs": [
    {
     "data": {
      "text/html": [
       "<div>\n",
       "<style scoped>\n",
       "    .dataframe tbody tr th:only-of-type {\n",
       "        vertical-align: middle;\n",
       "    }\n",
       "\n",
       "    .dataframe tbody tr th {\n",
       "        vertical-align: top;\n",
       "    }\n",
       "\n",
       "    .dataframe thead th {\n",
       "        text-align: right;\n",
       "    }\n",
       "</style>\n",
       "<table border=\"1\" class=\"dataframe\">\n",
       "  <thead>\n",
       "    <tr style=\"text-align: right;\">\n",
       "      <th></th>\n",
       "      <th>family</th>\n",
       "      <th>filepath</th>\n",
       "      <th>label</th>\n",
       "    </tr>\n",
       "  </thead>\n",
       "  <tbody>\n",
       "    <tr>\n",
       "      <th>3946</th>\n",
       "      <td>Fomitopsidaceae</td>\n",
       "      <td>/Users/Adrien/DataScientist/projet_Mushroom/im...</td>\n",
       "      <td>2</td>\n",
       "    </tr>\n",
       "    <tr>\n",
       "      <th>12669</th>\n",
       "      <td>Omphalotaceae</td>\n",
       "      <td>/Users/Adrien/DataScientist/projet_Mushroom/im...</td>\n",
       "      <td>1</td>\n",
       "    </tr>\n",
       "    <tr>\n",
       "      <th>8382</th>\n",
       "      <td>Omphalotaceae</td>\n",
       "      <td>/Users/Adrien/DataScientist/projet_Mushroom/im...</td>\n",
       "      <td>1</td>\n",
       "    </tr>\n",
       "    <tr>\n",
       "      <th>12482</th>\n",
       "      <td>Omphalotaceae</td>\n",
       "      <td>/Users/Adrien/DataScientist/projet_Mushroom/im...</td>\n",
       "      <td>1</td>\n",
       "    </tr>\n",
       "    <tr>\n",
       "      <th>4201</th>\n",
       "      <td>Physalacriaceae</td>\n",
       "      <td>/Users/Adrien/DataScientist/projet_Mushroom/im...</td>\n",
       "      <td>3</td>\n",
       "    </tr>\n",
       "  </tbody>\n",
       "</table>\n",
       "</div>"
      ],
      "text/plain": [
       "                family                                           filepath  \\\n",
       "3946   Fomitopsidaceae  /Users/Adrien/DataScientist/projet_Mushroom/im...   \n",
       "12669    Omphalotaceae  /Users/Adrien/DataScientist/projet_Mushroom/im...   \n",
       "8382     Omphalotaceae  /Users/Adrien/DataScientist/projet_Mushroom/im...   \n",
       "12482    Omphalotaceae  /Users/Adrien/DataScientist/projet_Mushroom/im...   \n",
       "4201   Physalacriaceae  /Users/Adrien/DataScientist/projet_Mushroom/im...   \n",
       "\n",
       "       label  \n",
       "3946       2  \n",
       "12669      1  \n",
       "8382       1  \n",
       "12482      1  \n",
       "4201       3  "
      ]
     },
     "execution_count": 6,
     "metadata": {},
     "output_type": "execute_result"
    }
   ],
   "source": [
    "df2 = df.drop(['image_id', 'image_url'], axis=1)\n",
    "data_train, data_test = train_test_split(df2, test_size=0.2, random_state=123)\n",
    "data_train.head()"
   ]
  },
  {
   "cell_type": "markdown",
   "metadata": {},
   "source": [
    "### Define the ImageDataGenerator"
   ]
  },
  {
   "cell_type": "code",
   "execution_count": 7,
   "metadata": {},
   "outputs": [],
   "source": [
    "from tensorflow.keras.applications.vgg19 import preprocess_input\n",
    "#from efficientnet.keras import preprocess_input\n",
    "\n",
    "train_data_generator = ImageDataGenerator(preprocessing_function=preprocess_input,\n",
    "                                          rotation_range=10,\n",
    "                                          width_shift_range = 0.1,\n",
    "                                          height_shift_range = 0.1,\n",
    "                                          zoom_range = 1.1,\n",
    "                                          horizontal_flip = True)\n",
    "\n",
    "test_data_generator = ImageDataGenerator(preprocessing_function=preprocess_input)"
   ]
  },
  {
   "cell_type": "markdown",
   "metadata": {},
   "source": [
    "## Prepare image"
   ]
  },
  {
   "cell_type": "code",
   "execution_count": 8,
   "metadata": {},
   "outputs": [
    {
     "name": "stderr",
     "output_type": "stream",
     "text": [
      "/Users/Adrien/opt/anaconda3/envs/transfer_learning_GPU/lib/python3.6/site-packages/ipykernel_launcher.py:3: SettingWithCopyWarning: \n",
      "A value is trying to be set on a copy of a slice from a DataFrame.\n",
      "Try using .loc[row_indexer,col_indexer] = value instead\n",
      "\n",
      "See the caveats in the documentation: https://pandas.pydata.org/pandas-docs/stable/user_guide/indexing.html#returning-a-view-versus-a-copy\n",
      "  This is separate from the ipykernel package so we can avoid doing imports until\n",
      "/Users/Adrien/opt/anaconda3/envs/transfer_learning_GPU/lib/python3.6/site-packages/ipykernel_launcher.py:4: SettingWithCopyWarning: \n",
      "A value is trying to be set on a copy of a slice from a DataFrame.\n",
      "Try using .loc[row_indexer,col_indexer] = value instead\n",
      "\n",
      "See the caveats in the documentation: https://pandas.pydata.org/pandas-docs/stable/user_guide/indexing.html#returning-a-view-versus-a-copy\n",
      "  after removing the cwd from sys.path.\n"
     ]
    },
    {
     "name": "stdout",
     "output_type": "stream",
     "text": [
      "Found 13709 validated image filenames belonging to 5 classes.\n",
      "Found 3428 validated image filenames belonging to 5 classes.\n"
     ]
    }
   ],
   "source": [
    "batch_size = 64\n",
    "\n",
    "data_train[\"label\"] = data_train[\"label\"].astype(str)\n",
    "data_test[\"label\"] = data_test[\"label\"].astype(str)\n",
    "\n",
    "train_generator = train_data_generator.flow_from_dataframe(dataframe = data_train, directory=\"\", x_col = \"filepath\", y_col=\"label\", target_size=(256,256), batch_size=batch_size, class_mode='sparse')\n",
    "test_generator = test_data_generator.flow_from_dataframe(dataframe = data_test, directory=\"\", x_col = \"filepath\", y_col=\"label\", target_size=(256,256), batch_size=batch_size, class_mode='sparse')\n"
   ]
  },
  {
   "cell_type": "markdown",
   "metadata": {},
   "source": [
    "### Load VGG19 pretrained model and freeze layers"
   ]
  },
  {
   "cell_type": "code",
   "execution_count": 9,
   "metadata": {},
   "outputs": [
    {
     "name": "stderr",
     "output_type": "stream",
     "text": [
      "INFO:plaidml:Opening device \"metal_amd_radeon_pro_5500m.0\"\n"
     ]
    }
   ],
   "source": [
    "vgg19 = VGG19(include_top=False, input_shape=(256, 256, 3))\n",
    "for layer in vgg19.layers:\n",
    "    layer.trainable = False\n",
    "\n",
    "#vgg19.summary()"
   ]
  },
  {
   "cell_type": "markdown",
   "metadata": {},
   "source": [
    "### Define the training model : (sequential)"
   ]
  },
  {
   "cell_type": "code",
   "execution_count": 10,
   "metadata": {},
   "outputs": [],
   "source": [
    "model_vgg19 = Sequential()\n",
    "model_vgg19.add(vgg19)\n",
    "model_vgg19.add(GlobalAveragePooling2D())\n",
    "model_vgg19.add(Dense(units = 1024, activation = 'relu'))\n",
    "model_vgg19.add(Dropout(0.3))\n",
    "model_vgg19.add(Dense(units = 512, activation = 'relu'))\n",
    "model_vgg19.add(Dropout(0.5))\n",
    "model_vgg19.add(Dense(units = 5, activation = 'softmax'))\n",
    "\n",
    "#model_vgg19.summary()"
   ]
  },
  {
   "cell_type": "markdown",
   "metadata": {},
   "source": [
    "### Compile and train the model"
   ]
  },
  {
   "cell_type": "code",
   "execution_count": 12,
   "metadata": {
    "scrolled": false
   },
   "outputs": [
    {
     "name": "stdout",
     "output_type": "stream",
     "text": [
      "Epoch 1/60\n",
      "214/214 [==============================] - 762s 4s/step - loss: 2.3261 - acc: 0.2635 - val_loss: 1.2734 - val_acc: 0.4708\n",
      "Epoch 2/60\n",
      "214/214 [==============================] - 788s 4s/step - loss: 1.6120 - acc: 0.3079 - val_loss: 1.2165 - val_acc: 0.4944\n",
      "Epoch 3/60\n",
      "214/214 [==============================] - 796s 4s/step - loss: 1.5020 - acc: 0.3391 - val_loss: 1.1772 - val_acc: 0.5244\n",
      "Epoch 4/60\n",
      "214/214 [==============================] - 779s 4s/step - loss: 1.4517 - acc: 0.3623 - val_loss: 1.1391 - val_acc: 0.5342\n",
      "Epoch 5/60\n",
      "214/214 [==============================] - 783s 4s/step - loss: 1.4176 - acc: 0.3827 - val_loss: 1.1181 - val_acc: 0.5419\n",
      "Epoch 6/60\n",
      "214/214 [==============================] - 777s 4s/step - loss: 1.4020 - acc: 0.3888 - val_loss: 1.1025 - val_acc: 0.5464\n",
      "Epoch 7/60\n",
      "214/214 [==============================] - 776s 4s/step - loss: 1.3809 - acc: 0.4031 - val_loss: 1.1005 - val_acc: 0.5550\n",
      "Epoch 8/60\n",
      "214/214 [==============================] - 769s 4s/step - loss: 1.3571 - acc: 0.4136 - val_loss: 1.0810 - val_acc: 0.5541\n",
      "Epoch 9/60\n",
      "214/214 [==============================] - 777s 4s/step - loss: 1.3401 - acc: 0.4242 - val_loss: 1.0638 - val_acc: 0.5589\n",
      "Epoch 10/60\n",
      "214/214 [==============================] - 778s 4s/step - loss: 1.3386 - acc: 0.4237 - val_loss: 1.0655 - val_acc: 0.5583\n",
      "Epoch 11/60\n",
      "214/214 [==============================] - 773s 4s/step - loss: 1.3248 - acc: 0.4265 - val_loss: 1.0426 - val_acc: 0.5731\n",
      "Epoch 12/60\n",
      "214/214 [==============================] - 778s 4s/step - loss: 1.3174 - acc: 0.4332 - val_loss: 1.0495 - val_acc: 0.5731\n",
      "Epoch 13/60\n",
      "214/214 [==============================] - 775s 4s/step - loss: 1.3058 - acc: 0.4378 - val_loss: 1.0324 - val_acc: 0.5826\n",
      "Epoch 14/60\n",
      "214/214 [==============================] - 782s 4s/step - loss: 1.2994 - acc: 0.4451 - val_loss: 1.0227 - val_acc: 0.5907\n",
      "Epoch 15/60\n",
      "214/214 [==============================] - 781s 4s/step - loss: 1.2821 - acc: 0.4507 - val_loss: 1.0273 - val_acc: 0.5782\n",
      "Epoch 16/60\n",
      "214/214 [==============================] - 780s 4s/step - loss: 1.2823 - acc: 0.4457 - val_loss: 1.0309 - val_acc: 0.5832\n",
      "Epoch 17/60\n",
      "214/214 [==============================] - 734s 3s/step - loss: 1.2713 - acc: 0.4572 - val_loss: 1.0276 - val_acc: 0.5800\n",
      "Epoch 18/60\n",
      "214/214 [==============================] - 717s 3s/step - loss: 1.2642 - acc: 0.4664 - val_loss: 1.0144 - val_acc: 0.5817\n",
      "Epoch 19/60\n",
      "214/214 [==============================] - 714s 3s/step - loss: 1.2673 - acc: 0.4630 - val_loss: 0.9972 - val_acc: 0.5919\n",
      "Epoch 20/60\n",
      "214/214 [==============================] - 703s 3s/step - loss: 1.2526 - acc: 0.4677 - val_loss: 0.9999 - val_acc: 0.5883\n",
      "Epoch 21/60\n",
      "214/214 [==============================] - 707s 3s/step - loss: 1.2601 - acc: 0.4684 - val_loss: 1.0160 - val_acc: 0.5779\n",
      "Epoch 22/60\n",
      "214/214 [==============================] - 713s 3s/step - loss: 1.2425 - acc: 0.4685 - val_loss: 0.9759 - val_acc: 0.6147\n",
      "Epoch 23/60\n",
      "214/214 [==============================] - 705s 3s/step - loss: 1.2427 - acc: 0.4711 - val_loss: 0.9717 - val_acc: 0.6002\n",
      "Epoch 24/60\n",
      "214/214 [==============================] - 716s 3s/step - loss: 1.2387 - acc: 0.4748 - val_loss: 0.9975 - val_acc: 0.5874\n",
      "Epoch 25/60\n",
      "214/214 [==============================] - 717s 3s/step - loss: 1.2259 - acc: 0.4822 - val_loss: 0.9680 - val_acc: 0.6085\n",
      "Epoch 26/60\n",
      "214/214 [==============================] - 708s 3s/step - loss: 1.2282 - acc: 0.4792 - val_loss: 0.9739 - val_acc: 0.5966\n",
      "Epoch 27/60\n",
      "214/214 [==============================] - 716s 3s/step - loss: 1.2143 - acc: 0.4898 - val_loss: 0.9688 - val_acc: 0.6034\n",
      "Epoch 28/60\n",
      "214/214 [==============================] - 705s 3s/step - loss: 1.2150 - acc: 0.4878 - val_loss: 0.9727 - val_acc: 0.5942\n",
      "Epoch 29/60\n",
      "214/214 [==============================] - 709s 3s/step - loss: 1.2180 - acc: 0.4814 - val_loss: 0.9670 - val_acc: 0.6079\n",
      "Epoch 30/60\n",
      "214/214 [==============================] - 702s 3s/step - loss: 1.2066 - acc: 0.4909 - val_loss: 0.9574 - val_acc: 0.6020\n",
      "Epoch 31/60\n",
      "214/214 [==============================] - 711s 3s/step - loss: 1.2041 - acc: 0.4872 - val_loss: 0.9708 - val_acc: 0.5978\n",
      "Epoch 32/60\n",
      "214/214 [==============================] - 718s 3s/step - loss: 1.2062 - acc: 0.4868 - val_loss: 0.9579 - val_acc: 0.6121\n",
      "Epoch 33/60\n",
      "214/214 [==============================] - 720s 3s/step - loss: 1.1995 - acc: 0.4910 - val_loss: 0.9841 - val_acc: 0.5966\n",
      "Epoch 34/60\n",
      "214/214 [==============================] - 720s 3s/step - loss: 1.1894 - acc: 0.4950 - val_loss: 0.9506 - val_acc: 0.6272\n",
      "Epoch 35/60\n",
      "214/214 [==============================] - 726s 3s/step - loss: 1.1924 - acc: 0.4987 - val_loss: 0.9452 - val_acc: 0.6070\n",
      "Epoch 36/60\n",
      "214/214 [==============================] - 720s 3s/step - loss: 1.1880 - acc: 0.4995 - val_loss: 0.9655 - val_acc: 0.6103\n",
      "Epoch 37/60\n",
      "214/214 [==============================] - 785s 4s/step - loss: 1.1821 - acc: 0.4968 - val_loss: 0.9101 - val_acc: 0.6257\n",
      "Epoch 38/60\n",
      "214/214 [==============================] - 807s 4s/step - loss: 1.1718 - acc: 0.5060 - val_loss: 0.9618 - val_acc: 0.6088\n",
      "Epoch 39/60\n",
      "214/214 [==============================] - 814s 4s/step - loss: 1.1720 - acc: 0.5079 - val_loss: 0.9308 - val_acc: 0.6257\n",
      "Epoch 40/60\n",
      "214/214 [==============================] - 835s 4s/step - loss: 1.1697 - acc: 0.5125 - val_loss: 0.9512 - val_acc: 0.6124\n",
      "Epoch 41/60\n",
      "214/214 [==============================] - 830s 4s/step - loss: 1.1774 - acc: 0.5035 - val_loss: 0.9373 - val_acc: 0.6278\n",
      "Epoch 42/60\n",
      "214/214 [==============================] - 811s 4s/step - loss: 1.1619 - acc: 0.5143 - val_loss: 0.9446 - val_acc: 0.6192\n",
      "Epoch 43/60\n",
      "214/214 [==============================] - 750s 4s/step - loss: 1.1598 - acc: 0.5152 - val_loss: 0.9397 - val_acc: 0.6210\n",
      "Epoch 44/60\n",
      "214/214 [==============================] - 750s 4s/step - loss: 1.1588 - acc: 0.5158 - val_loss: 0.9221 - val_acc: 0.6287\n",
      "Epoch 45/60\n",
      "214/214 [==============================] - 840s 4s/step - loss: 1.1595 - acc: 0.5171 - val_loss: 0.9347 - val_acc: 0.6249\n",
      "Epoch 46/60\n",
      "214/214 [==============================] - 813s 4s/step - loss: 1.1606 - acc: 0.5200 - val_loss: 0.9246 - val_acc: 0.6299\n",
      "Epoch 47/60\n",
      "214/214 [==============================] - 805s 4s/step - loss: 1.1496 - acc: 0.5174 - val_loss: 0.9136 - val_acc: 0.6364\n",
      "Epoch 48/60\n",
      "214/214 [==============================] - 982s 5s/step - loss: 1.1487 - acc: 0.5223 - val_loss: 0.9264 - val_acc: 0.6296\n",
      "Epoch 49/60\n",
      "214/214 [==============================] - 1010s 5s/step - loss: 1.1430 - acc: 0.5224 - val_loss: 0.9362 - val_acc: 0.6296\n",
      "Epoch 50/60\n",
      "214/214 [==============================] - 865s 4s/step - loss: 1.1380 - acc: 0.5219 - val_loss: 0.9155 - val_acc: 0.6361\n",
      "Epoch 51/60\n",
      "214/214 [==============================] - 838s 4s/step - loss: 1.1365 - acc: 0.5289 - val_loss: 0.9247 - val_acc: 0.6359\n",
      "Epoch 52/60\n",
      "214/214 [==============================] - 897s 4s/step - loss: 1.1397 - acc: 0.5257 - val_loss: 0.9110 - val_acc: 0.6448\n",
      "Epoch 53/60\n",
      "214/214 [==============================] - 959s 4s/step - loss: 1.1419 - acc: 0.5224 - val_loss: 0.9229 - val_acc: 0.6359\n",
      "Epoch 54/60\n",
      "214/214 [==============================] - 1030s 5s/step - loss: 1.1383 - acc: 0.5208 - val_loss: 0.9202 - val_acc: 0.6332\n",
      "Epoch 55/60\n",
      "214/214 [==============================] - 1158s 5s/step - loss: 1.1819 - acc: 0.5210 - val_loss: 0.9060 - val_acc: 0.6453\n",
      "Epoch 56/60\n",
      "214/214 [==============================] - 1107s 5s/step - loss: 1.1237 - acc: 0.5327 - val_loss: 0.9037 - val_acc: 0.6477\n",
      "Epoch 57/60\n",
      "214/214 [==============================] - 1099s 5s/step - loss: 1.1746 - acc: 0.5300 - val_loss: 0.9110 - val_acc: 0.6433\n",
      "Epoch 58/60\n",
      "214/214 [==============================] - 1082s 5s/step - loss: 1.1198 - acc: 0.5352 - val_loss: 0.8946 - val_acc: 0.6430\n",
      "Epoch 59/60\n",
      "214/214 [==============================] - 925s 4s/step - loss: 1.1227 - acc: 0.5277 - val_loss: 0.9095 - val_acc: 0.6394\n",
      "Epoch 60/60\n",
      "214/214 [==============================] - 902s 4s/step - loss: 1.1141 - acc: 0.5383 - val_loss: 0.9180 - val_acc: 0.6418\n"
     ]
    }
   ],
   "source": [
    "optimizer = keras.optimizers.Adam(lr=0.0001)\n",
    "model_vgg19.compile(optimizer = optimizer, loss = 'sparse_categorical_crossentropy', metrics = ['accuracy'])\n",
    "\n",
    "history_vgg19 = model_vgg19.fit_generator(generator=train_generator, \n",
    "                                epochs = 60,\n",
    "                                steps_per_epoch = len(data_train)//batch_size,\n",
    "                                validation_data = test_generator,\n",
    "                                validation_steps = len(data_test)//batch_size)"
   ]
  },
  {
   "cell_type": "markdown",
   "metadata": {},
   "source": [
    "## Plot the training history"
   ]
  },
  {
   "cell_type": "code",
   "execution_count": 13,
   "metadata": {},
   "outputs": [
    {
     "data": {
      "image/png": "[encoded data removed]",
      "text/plain": [
       "<Figure size 1296x576 with 2 Axes>"
      ]
     },
     "metadata": {
      "needs_background": "light"
     },
     "output_type": "display_data"
    }
   ],
   "source": [
    "plt.figure(figsize=(18,8))\n",
    "plt.subplot(121)\n",
    "plt.plot(range(len(history_vgg19.history['loss'])), history_vgg19.history['loss'], label = \"training\")\n",
    "plt.plot(range(len(history_vgg19.history['val_loss'])), history_vgg19.history['val_loss'], label = \"validation\")\n",
    "plt.xlabel(\"epoch\")\n",
    "plt.ylabel(\"loss\")\n",
    "plt.title(\"Fonction de perte en fonction de l'epoch\")\n",
    "plt.legend()\n",
    "\n",
    "plt.subplot(122)\n",
    "plt.plot(range(len(history_vgg19.history['acc'])), history_vgg19.history['acc'], label = \"training\")\n",
    "plt.plot(range(len(history_vgg19.history['val_acc'])), history_vgg19.history['val_acc'], label = \"validation\")\n",
    "plt.xlabel(\"epoch\")\n",
    "plt.ylabel(\"accuracy\")\n",
    "plt.title(\"Accuracy en fonction de l'epoch\")\n",
    "plt.legend();"
   ]
  },
  {
   "cell_type": "markdown",
   "metadata": {},
   "source": [
    "### Sauvegarder le modèle :\n",
    "\n",
    "- permet de continuer l'entrainement...\n",
    "- reloader pour faire des prédictions plus tard..."
   ]
  },
  {
   "cell_type": "code",
   "execution_count": 14,
   "metadata": {},
   "outputs": [],
   "source": [
    "### Set the path and name you want !\n",
    "##\n",
    "#\n",
    "save_name = \"/Users/Adrien/DataScientist/projet_Mushroom/models_GPU_20210620/model_vgg19_GPU_20210620.h5\"\n",
    "#\n",
    "##\n",
    "###\n",
    "\n",
    "\n",
    "model_vgg19.save(save_name)"
   ]
  }
 ],
 "metadata": {
  "kernelspec": {
   "display_name": "Python 3",
   "language": "python",
   "name": "python3"
  },
  "language_info": {
   "codemirror_mode": {
    "name": "ipython",
    "version": 3
   },
   "file_extension": ".py",
   "mimetype": "text/x-python",
   "name": "python",
   "nbconvert_exporter": "python",
   "pygments_lexer": "ipython3",
   "version": "3.8.5"
  }
 },
 "nbformat": 4,
 "nbformat_minor": 4
}
