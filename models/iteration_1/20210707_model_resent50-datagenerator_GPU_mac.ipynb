{
 "cells": [
  {
   "cell_type": "markdown",
   "metadata": {},
   "source": [
    "# Import function of interest"
   ]
  },
  {
   "cell_type": "code",
   "execution_count": 16,
   "metadata": {},
   "outputs": [],
   "source": [
    "import os\n",
    "os.environ[\"KERAS_BACKEND\"] = \"plaidml.keras.backend\"\n",
    "import pandas as pd\n",
    "import numpy as np\n",
    "from tqdm import tqdm\n",
    "import itertools # Pour créer des iterateurs\n",
    "\n",
    "import matplotlib.pyplot as plt  # Pour l'affichage d'images\n",
    "from matplotlib import cm # Pour importer de nouvelles cartes de couleur\n",
    "\n",
    "from sklearn.model_selection import train_test_split, GridSearchCV, cross_val_score\n",
    "from sklearn.ensemble import RandomForestClassifier # Pour instancier et entraîner un modèle Random Forest\n",
    "from sklearn.metrics import accuracy_score, f1_score, confusion_matrix\n",
    "from sklearn import metrics\n",
    "\n",
    "from PIL import Image\n",
    "\n",
    "import tensorflow as tf\n",
    "#from tensorflow.keras.applications import EfficientNetB1\n",
    "#from tensorflow.keras.preprocessing.image import ImageDataGenerator\n",
    "#from tensorflow.keras.layers import Dense, GlobalAveragePooling2D, Dropout, Conv2D, MaxPooling2D, BatchNormalization, LeakyReLU, Flatten\n",
    "#from tensorflow.keras.models import Model, Sequential, load_model\n",
    "#from tensorflow.keras import callbacks\n",
    "\n",
    "import keras\n",
    "from keras.applications import ResNet50\n",
    "from keras.preprocessing.image import ImageDataGenerator\n",
    "from keras.layers import Dense, GlobalAveragePooling2D, Dropout, Conv2D, MaxPooling2D, BatchNormalization, LeakyReLU, Flatten\n",
    "from keras.models import Model, Sequential, load_model\n",
    "from keras import callbacks\n",
    "\n",
    "\n",
    "%matplotlib inline"
   ]
  },
  {
   "cell_type": "markdown",
   "metadata": {},
   "source": [
    "# Set path(s) :"
   ]
  },
  {
   "cell_type": "code",
   "execution_count": 17,
   "metadata": {},
   "outputs": [],
   "source": [
    "csv_5fam = \"/Users/Adrien/DataScientist/projet_Mushroom/reduced_dataset_5_families.csv\""
   ]
  },
  {
   "cell_type": "markdown",
   "metadata": {},
   "source": [
    "### Load data:"
   ]
  },
  {
   "cell_type": "code",
   "execution_count": 18,
   "metadata": {},
   "outputs": [
    {
     "data": {
      "text/html": [
       "<div>\n",
       "<style scoped>\n",
       "    .dataframe tbody tr th:only-of-type {\n",
       "        vertical-align: middle;\n",
       "    }\n",
       "\n",
       "    .dataframe tbody tr th {\n",
       "        vertical-align: top;\n",
       "    }\n",
       "\n",
       "    .dataframe thead th {\n",
       "        text-align: right;\n",
       "    }\n",
       "</style>\n",
       "<table border=\"1\" class=\"dataframe\">\n",
       "  <thead>\n",
       "    <tr style=\"text-align: right;\">\n",
       "      <th></th>\n",
       "      <th>image_id</th>\n",
       "      <th>image_url</th>\n",
       "      <th>family</th>\n",
       "      <th>filepath</th>\n",
       "      <th>label</th>\n",
       "    </tr>\n",
       "  </thead>\n",
       "  <tbody>\n",
       "    <tr>\n",
       "      <th>0</th>\n",
       "      <td>28</td>\n",
       "      <td>http://mushroomobserver.org/images/320/28</td>\n",
       "      <td>Inocybaceae</td>\n",
       "      <td>/Users/Adrien/DataScientist/projet_Mushroom/im...</td>\n",
       "      <td>0</td>\n",
       "    </tr>\n",
       "    <tr>\n",
       "      <th>1</th>\n",
       "      <td>86</td>\n",
       "      <td>http://mushroomobserver.org/images/320/86</td>\n",
       "      <td>Physalacriaceae</td>\n",
       "      <td>/Users/Adrien/DataScientist/projet_Mushroom/im...</td>\n",
       "      <td>3</td>\n",
       "    </tr>\n",
       "    <tr>\n",
       "      <th>2</th>\n",
       "      <td>87</td>\n",
       "      <td>http://mushroomobserver.org/images/320/87</td>\n",
       "      <td>Physalacriaceae</td>\n",
       "      <td>/Users/Adrien/DataScientist/projet_Mushroom/im...</td>\n",
       "      <td>3</td>\n",
       "    </tr>\n",
       "    <tr>\n",
       "      <th>3</th>\n",
       "      <td>126</td>\n",
       "      <td>http://mushroomobserver.org/images/320/126</td>\n",
       "      <td>Omphalotaceae</td>\n",
       "      <td>/Users/Adrien/DataScientist/projet_Mushroom/im...</td>\n",
       "      <td>1</td>\n",
       "    </tr>\n",
       "    <tr>\n",
       "      <th>4</th>\n",
       "      <td>128</td>\n",
       "      <td>http://mushroomobserver.org/images/320/128</td>\n",
       "      <td>Omphalotaceae</td>\n",
       "      <td>/Users/Adrien/DataScientist/projet_Mushroom/im...</td>\n",
       "      <td>1</td>\n",
       "    </tr>\n",
       "  </tbody>\n",
       "</table>\n",
       "</div>"
      ],
      "text/plain": [
       "   image_id                                   image_url           family  \\\n",
       "0        28   http://mushroomobserver.org/images/320/28      Inocybaceae   \n",
       "1        86   http://mushroomobserver.org/images/320/86  Physalacriaceae   \n",
       "2        87   http://mushroomobserver.org/images/320/87  Physalacriaceae   \n",
       "3       126  http://mushroomobserver.org/images/320/126    Omphalotaceae   \n",
       "4       128  http://mushroomobserver.org/images/320/128    Omphalotaceae   \n",
       "\n",
       "                                            filepath  label  \n",
       "0  /Users/Adrien/DataScientist/projet_Mushroom/im...      0  \n",
       "1  /Users/Adrien/DataScientist/projet_Mushroom/im...      3  \n",
       "2  /Users/Adrien/DataScientist/projet_Mushroom/im...      3  \n",
       "3  /Users/Adrien/DataScientist/projet_Mushroom/im...      1  \n",
       "4  /Users/Adrien/DataScientist/projet_Mushroom/im...      1  "
      ]
     },
     "execution_count": 18,
     "metadata": {},
     "output_type": "execute_result"
    }
   ],
   "source": [
    "df = pd.read_csv(csv_5fam)\n",
    "\n",
    "df.head()"
   ]
  },
  {
   "cell_type": "markdown",
   "metadata": {},
   "source": [
    "### Split data :"
   ]
  },
  {
   "cell_type": "code",
   "execution_count": 4,
   "metadata": {},
   "outputs": [],
   "source": [
    "#X_train_path, X_test_path, y_train, y_test = train_test_split(df['filepath'], df['label'], test_size=0.2, random_state=42)"
   ]
  },
  {
   "cell_type": "code",
   "execution_count": 19,
   "metadata": {},
   "outputs": [
    {
     "data": {
      "text/html": [
       "<div>\n",
       "<style scoped>\n",
       "    .dataframe tbody tr th:only-of-type {\n",
       "        vertical-align: middle;\n",
       "    }\n",
       "\n",
       "    .dataframe tbody tr th {\n",
       "        vertical-align: top;\n",
       "    }\n",
       "\n",
       "    .dataframe thead th {\n",
       "        text-align: right;\n",
       "    }\n",
       "</style>\n",
       "<table border=\"1\" class=\"dataframe\">\n",
       "  <thead>\n",
       "    <tr style=\"text-align: right;\">\n",
       "      <th></th>\n",
       "      <th>family</th>\n",
       "      <th>filepath</th>\n",
       "      <th>label</th>\n",
       "    </tr>\n",
       "  </thead>\n",
       "  <tbody>\n",
       "    <tr>\n",
       "      <th>3946</th>\n",
       "      <td>Fomitopsidaceae</td>\n",
       "      <td>/Users/Adrien/DataScientist/projet_Mushroom/im...</td>\n",
       "      <td>2</td>\n",
       "    </tr>\n",
       "    <tr>\n",
       "      <th>12669</th>\n",
       "      <td>Omphalotaceae</td>\n",
       "      <td>/Users/Adrien/DataScientist/projet_Mushroom/im...</td>\n",
       "      <td>1</td>\n",
       "    </tr>\n",
       "    <tr>\n",
       "      <th>8382</th>\n",
       "      <td>Omphalotaceae</td>\n",
       "      <td>/Users/Adrien/DataScientist/projet_Mushroom/im...</td>\n",
       "      <td>1</td>\n",
       "    </tr>\n",
       "    <tr>\n",
       "      <th>12482</th>\n",
       "      <td>Omphalotaceae</td>\n",
       "      <td>/Users/Adrien/DataScientist/projet_Mushroom/im...</td>\n",
       "      <td>1</td>\n",
       "    </tr>\n",
       "    <tr>\n",
       "      <th>4201</th>\n",
       "      <td>Physalacriaceae</td>\n",
       "      <td>/Users/Adrien/DataScientist/projet_Mushroom/im...</td>\n",
       "      <td>3</td>\n",
       "    </tr>\n",
       "  </tbody>\n",
       "</table>\n",
       "</div>"
      ],
      "text/plain": [
       "                family                                           filepath  \\\n",
       "3946   Fomitopsidaceae  /Users/Adrien/DataScientist/projet_Mushroom/im...   \n",
       "12669    Omphalotaceae  /Users/Adrien/DataScientist/projet_Mushroom/im...   \n",
       "8382     Omphalotaceae  /Users/Adrien/DataScientist/projet_Mushroom/im...   \n",
       "12482    Omphalotaceae  /Users/Adrien/DataScientist/projet_Mushroom/im...   \n",
       "4201   Physalacriaceae  /Users/Adrien/DataScientist/projet_Mushroom/im...   \n",
       "\n",
       "       label  \n",
       "3946       2  \n",
       "12669      1  \n",
       "8382       1  \n",
       "12482      1  \n",
       "4201       3  "
      ]
     },
     "execution_count": 19,
     "metadata": {},
     "output_type": "execute_result"
    }
   ],
   "source": [
    "df2 = df.drop(['image_id', 'image_url'], axis=1)\n",
    "data_train, data_test = train_test_split(df2, test_size=0.2, random_state=123)\n",
    "data_train.head()"
   ]
  },
  {
   "cell_type": "markdown",
   "metadata": {},
   "source": [
    "### Define the ImageDataGenerator"
   ]
  },
  {
   "cell_type": "code",
   "execution_count": 20,
   "metadata": {},
   "outputs": [],
   "source": [
    "from tensorflow.keras.applications.resnet50 import preprocess_input\n",
    "#from efficientnet.keras import preprocess_input\n",
    "\n",
    "train_data_generator = ImageDataGenerator(preprocessing_function=preprocess_input,\n",
    "                                          rotation_range=5,\n",
    "                                          width_shift_range = 0.05,\n",
    "                                          height_shift_range = 0.05,\n",
    "                                          zoom_range = 1.05,\n",
    "                                          horizontal_flip = True)\n",
    "\n",
    "test_data_generator = ImageDataGenerator(preprocessing_function=preprocess_input)"
   ]
  },
  {
   "cell_type": "markdown",
   "metadata": {},
   "source": [
    "## Prepare image"
   ]
  },
  {
   "cell_type": "code",
   "execution_count": 22,
   "metadata": {},
   "outputs": [
    {
     "name": "stdout",
     "output_type": "stream",
     "text": [
      "Found 13709 validated image filenames belonging to 5 classes.\n",
      "Found 3428 validated image filenames belonging to 5 classes.\n"
     ]
    },
    {
     "name": "stderr",
     "output_type": "stream",
     "text": [
      "/Users/Adrien/opt/anaconda3/envs/transfer_learning_GPU/lib/python3.6/site-packages/ipykernel_launcher.py:3: SettingWithCopyWarning: \n",
      "A value is trying to be set on a copy of a slice from a DataFrame.\n",
      "Try using .loc[row_indexer,col_indexer] = value instead\n",
      "\n",
      "See the caveats in the documentation: https://pandas.pydata.org/pandas-docs/stable/user_guide/indexing.html#returning-a-view-versus-a-copy\n",
      "  This is separate from the ipykernel package so we can avoid doing imports until\n",
      "/Users/Adrien/opt/anaconda3/envs/transfer_learning_GPU/lib/python3.6/site-packages/ipykernel_launcher.py:4: SettingWithCopyWarning: \n",
      "A value is trying to be set on a copy of a slice from a DataFrame.\n",
      "Try using .loc[row_indexer,col_indexer] = value instead\n",
      "\n",
      "See the caveats in the documentation: https://pandas.pydata.org/pandas-docs/stable/user_guide/indexing.html#returning-a-view-versus-a-copy\n",
      "  after removing the cwd from sys.path.\n"
     ]
    }
   ],
   "source": [
    "batch_size = 64\n",
    "\n",
    "data_train[\"label\"] = data_train[\"label\"].astype(str)\n",
    "data_test[\"label\"] = data_test[\"label\"].astype(str)\n",
    "\n",
    "train_generator = train_data_generator.flow_from_dataframe(dataframe = data_train, directory=\"\", x_col = \"filepath\", y_col=\"label\", target_size=(256,256), batch_size=batch_size, class_mode='sparse')\n",
    "test_generator = test_data_generator.flow_from_dataframe(dataframe = data_test, directory=\"\", x_col = \"filepath\", y_col=\"label\", target_size=(256,256), batch_size=batch_size, class_mode='sparse')\n"
   ]
  },
  {
   "cell_type": "markdown",
   "metadata": {},
   "source": [
    "### Load resnet50 pretrained model and freeze layers"
   ]
  },
  {
   "cell_type": "code",
   "execution_count": 10,
   "metadata": {},
   "outputs": [
    {
     "name": "stderr",
     "output_type": "stream",
     "text": [
      "INFO:plaidml:Opening device \"metal_amd_radeon_pro_5500m.0\"\n",
      "/Users/Adrien/opt/anaconda3/envs/transfer_learning_GPU/lib/python3.6/site-packages/keras_applications/resnet50.py:265: UserWarning: The output shape of `ResNet50(include_top=False)` has been changed since Keras 2.2.0.\n",
      "  warnings.warn('The output shape of `ResNet50(include_top=False)` '\n"
     ]
    },
    {
     "name": "stdout",
     "output_type": "stream",
     "text": [
      "Downloading data from https://github.com/fchollet/deep-learning-models/releases/download/v0.2/resnet50_weights_tf_dim_ordering_tf_kernels_notop.h5\n",
      "94658560/94653016 [==============================] - 19s 0us/step\n"
     ]
    }
   ],
   "source": [
    "resnet50 = ResNet50(include_top=False, input_shape=(256, 256, 3))\n",
    "for layer in resnet50.layers:\n",
    "    layer.trainable = False\n",
    "\n",
    "#resnet50.summary()"
   ]
  },
  {
   "cell_type": "markdown",
   "metadata": {},
   "source": [
    "### Define the training model : (sequential)"
   ]
  },
  {
   "cell_type": "code",
   "execution_count": 11,
   "metadata": {},
   "outputs": [],
   "source": [
    "model_resnet50 = Sequential()\n",
    "model_resnet50.add(resnet50)\n",
    "model_resnet50.add(GlobalAveragePooling2D())\n",
    "model_resnet50.add(Dense(units = 1024, activation = 'relu'))\n",
    "model_resnet50.add(Dropout(0.3))\n",
    "model_resnet50.add(Dense(units = 512, activation = 'relu'))\n",
    "model_resnet50.add(Dropout(0.5))\n",
    "model_resnet50.add(Dense(units = 5, activation = 'softmax'))\n",
    "\n",
    "#model_resnet50.summary()"
   ]
  },
  {
   "cell_type": "markdown",
   "metadata": {},
   "source": [
    "### Compile and train the model\n",
    "\n",
    "ajout de 2 call backs :\n",
    "> - Sauvegarder les états intermédiaires.\n",
    "> - Réduire le learning rate si ça stagne."
   ]
  },
  {
   "cell_type": "code",
   "execution_count": 12,
   "metadata": {
    "scrolled": false
   },
   "outputs": [
    {
     "name": "stdout",
     "output_type": "stream",
     "text": [
      "Epoch 1/40\n",
      "214/214 [==============================] - 514s 2s/step - loss: 1.4774 - acc: 0.3680 - val_loss: 1.3189 - val_acc: 0.4626\n",
      "Epoch 2/40\n",
      "214/214 [==============================] - 544s 3s/step - loss: 1.3176 - acc: 0.4402 - val_loss: 1.0953 - val_acc: 0.5470\n",
      "Epoch 3/40\n",
      "214/214 [==============================] - 569s 3s/step - loss: 1.2772 - acc: 0.4612 - val_loss: 1.2107 - val_acc: 0.5083\n",
      "Epoch 4/40\n",
      "214/214 [==============================] - 571s 3s/step - loss: 1.2507 - acc: 0.4752 - val_loss: 1.1130 - val_acc: 0.5458\n",
      "Epoch 5/40\n",
      "214/214 [==============================] - 566s 3s/step - loss: 1.2360 - acc: 0.4814 - val_loss: 1.1622 - val_acc: 0.5556\n",
      "Epoch 6/40\n",
      "214/214 [==============================] - 682s 3s/step - loss: 1.2209 - acc: 0.4901 - val_loss: 1.0273 - val_acc: 0.6026\n",
      "Epoch 7/40\n",
      "214/214 [==============================] - 709s 3s/step - loss: 1.2077 - acc: 0.4925 - val_loss: 1.1338 - val_acc: 0.5565\n",
      "Epoch 8/40\n",
      "214/214 [==============================] - 715s 3s/step - loss: 1.2158 - acc: 0.4910 - val_loss: 1.2055 - val_acc: 0.5318\n",
      "Epoch 9/40\n",
      "214/214 [==============================] - 718s 3s/step - loss: 1.1998 - acc: 0.4971 - val_loss: 1.1839 - val_acc: 0.5496\n",
      "Epoch 10/40\n",
      "214/214 [==============================] - 714s 3s/step - loss: 1.1838 - acc: 0.5115 - val_loss: 1.1257 - val_acc: 0.5592\n",
      "Epoch 11/40\n",
      "214/214 [==============================] - 619s 3s/step - loss: 1.1774 - acc: 0.5134 - val_loss: 1.1299 - val_acc: 0.5514\n",
      "Epoch 12/40\n",
      "214/214 [==============================] - 569s 3s/step - loss: 1.1736 - acc: 0.5205 - val_loss: 1.0670 - val_acc: 0.5788\n",
      "Epoch 13/40\n",
      "214/214 [==============================] - 621s 3s/step - loss: 1.1641 - acc: 0.5249 - val_loss: 1.0540 - val_acc: 0.5856\n",
      "Epoch 14/40\n",
      "214/214 [==============================] - 676s 3s/step - loss: 1.1561 - acc: 0.5255 - val_loss: 1.1446 - val_acc: 0.5595\n",
      "Epoch 15/40\n",
      "214/214 [==============================] - 679s 3s/step - loss: 1.1577 - acc: 0.5214 - val_loss: 1.0350 - val_acc: 0.5826\n",
      "Epoch 16/40\n",
      "214/214 [==============================] - 678s 3s/step - loss: 1.1458 - acc: 0.5256 - val_loss: 1.0031 - val_acc: 0.6094\n",
      "Epoch 17/40\n",
      "214/214 [==============================] - 687s 3s/step - loss: 1.1393 - acc: 0.5266 - val_loss: 1.0138 - val_acc: 0.5951\n",
      "Epoch 18/40\n",
      "214/214 [==============================] - 699s 3s/step - loss: 1.1392 - acc: 0.5292 - val_loss: 1.0768 - val_acc: 0.5880\n",
      "Epoch 19/40\n",
      "214/214 [==============================] - 620s 3s/step - loss: 1.1387 - acc: 0.5281 - val_loss: 1.0716 - val_acc: 0.5812\n",
      "Epoch 20/40\n",
      "214/214 [==============================] - 558s 3s/step - loss: 1.1305 - acc: 0.5308 - val_loss: 1.0087 - val_acc: 0.6171\n",
      "Epoch 21/40\n",
      "214/214 [==============================] - 586s 3s/step - loss: 1.1278 - acc: 0.5424 - val_loss: 1.0670 - val_acc: 0.5859\n",
      "Epoch 22/40\n",
      "214/214 [==============================] - 668s 3s/step - loss: 1.1192 - acc: 0.5394 - val_loss: 1.0552 - val_acc: 0.5767\n",
      "Epoch 23/40\n",
      "214/214 [==============================] - 690s 3s/step - loss: 1.1245 - acc: 0.5377 - val_loss: 1.2350 - val_acc: 0.5482\n",
      "Epoch 24/40\n",
      "214/214 [==============================] - 701s 3s/step - loss: 1.1056 - acc: 0.5478 - val_loss: 1.0815 - val_acc: 0.5877\n",
      "Epoch 25/40\n",
      "214/214 [==============================] - 704s 3s/step - loss: 1.1119 - acc: 0.5457 - val_loss: 1.1164 - val_acc: 0.5862\n",
      "Epoch 26/40\n",
      "214/214 [==============================] - 711s 3s/step - loss: 1.1113 - acc: 0.5435 - val_loss: 1.1179 - val_acc: 0.5838\n",
      "Epoch 27/40\n",
      "214/214 [==============================] - 710s 3s/step - loss: 1.1010 - acc: 0.5462 - val_loss: 1.0778 - val_acc: 0.5886\n",
      "Epoch 28/40\n",
      "214/214 [==============================] - 724s 3s/step - loss: 1.0889 - acc: 0.5500 - val_loss: 1.0593 - val_acc: 0.6106\n",
      "Epoch 29/40\n",
      "214/214 [==============================] - 725s 3s/step - loss: 1.1011 - acc: 0.5520 - val_loss: 1.0586 - val_acc: 0.6094\n",
      "Epoch 30/40\n",
      "214/214 [==============================] - 581s 3s/step - loss: 1.1065 - acc: 0.5524 - val_loss: 1.0745 - val_acc: 0.5901\n",
      "Epoch 31/40\n",
      "214/214 [==============================] - 564s 3s/step - loss: 1.0940 - acc: 0.5525 - val_loss: 1.0680 - val_acc: 0.6040\n",
      "Epoch 32/40\n",
      "214/214 [==============================] - 685s 3s/step - loss: 1.0865 - acc: 0.5566 - val_loss: 1.0177 - val_acc: 0.6156\n",
      "Epoch 33/40\n",
      "214/214 [==============================] - 700s 3s/step - loss: 1.0866 - acc: 0.5566 - val_loss: 1.1126 - val_acc: 0.5939\n",
      "Epoch 34/40\n",
      "214/214 [==============================] - 694s 3s/step - loss: 1.0912 - acc: 0.5555 - val_loss: 1.0645 - val_acc: 0.6112\n",
      "Epoch 35/40\n",
      "214/214 [==============================] - 694s 3s/step - loss: 1.0786 - acc: 0.5555 - val_loss: 1.0697 - val_acc: 0.5945\n",
      "Epoch 36/40\n",
      "214/214 [==============================] - 598s 3s/step - loss: 1.0812 - acc: 0.5569 - val_loss: 1.1040 - val_acc: 0.5910\n",
      "Epoch 37/40\n",
      "214/214 [==============================] - 553s 3s/step - loss: 1.0852 - acc: 0.5528 - val_loss: 1.1162 - val_acc: 0.5850\n",
      "Epoch 38/40\n",
      "214/214 [==============================] - 555s 3s/step - loss: 1.0713 - acc: 0.5680 - val_loss: 1.1329 - val_acc: 0.5880\n",
      "Epoch 39/40\n",
      "214/214 [==============================] - 588s 3s/step - loss: 1.0782 - acc: 0.5572 - val_loss: 1.1024 - val_acc: 0.5910\n",
      "Epoch 40/40\n",
      "214/214 [==============================] - 565s 3s/step - loss: 1.0768 - acc: 0.5655 - val_loss: 0.9483 - val_acc: 0.6409\n"
     ]
    }
   ],
   "source": [
    "model_resnet50.compile(optimizer = 'adam', loss = 'sparse_categorical_crossentropy', metrics = ['accuracy'])\n",
    "\n",
    "history_resnet50 = model_resnet50.fit_generator(generator=train_generator, \n",
    "                                epochs = 40,\n",
    "                                steps_per_epoch = len(data_train)//batch_size,\n",
    "                                validation_data = test_generator,\n",
    "                                validation_steps = len(data_test)//batch_size)"
   ]
  },
  {
   "cell_type": "code",
   "execution_count": 13,
   "metadata": {},
   "outputs": [
    {
     "data": {
      "image/png": "[encoded data removed]",
      "text/plain": [
       "<Figure size 1296x576 with 2 Axes>"
      ]
     },
     "metadata": {
      "needs_background": "light"
     },
     "output_type": "display_data"
    }
   ],
   "source": [
    "plt.figure(figsize=(18,8))\n",
    "plt.subplot(121)\n",
    "plt.plot(range(len(history_resnet50.history['loss'])), history_resnet50.history['loss'], label = \"training\")\n",
    "plt.plot(range(len(history_resnet50.history['val_loss'])), history_resnet50.history['val_loss'], label = \"validation\")\n",
    "plt.xlabel(\"epoch\")\n",
    "plt.ylabel(\"loss\")\n",
    "plt.title(\"Fonction de perte en fonction de l'epoch\")\n",
    "plt.legend()\n",
    "\n",
    "plt.subplot(122)\n",
    "plt.plot(range(len(history_resnet50.history['acc'])), history_resnet50.history['acc'], label = \"training\")\n",
    "plt.plot(range(len(history_resnet50.history['val_acc'])), history_resnet50.history['val_acc'], label = \"validation\")\n",
    "plt.xlabel(\"epoch\")\n",
    "plt.ylabel(\"accuracy\")\n",
    "plt.title(\"Accuracy en fonction de l'epoch\")\n",
    "plt.legend();"
   ]
  },
  {
   "cell_type": "markdown",
   "metadata": {},
   "source": [
    "### Sauvegarder le modèle :\n",
    "\n",
    "- permet de continuer l'entrainement...\n",
    "- reloader pour faire des prédictions plus tard..."
   ]
  },
  {
   "cell_type": "code",
   "execution_count": 14,
   "metadata": {},
   "outputs": [],
   "source": [
    "### Set the path and name you want !\n",
    "##\n",
    "#\n",
    "save_name = \"/Users/Adrien/DataScientist/projet_Mushroom/models_GPU_20210620/model_resnet50_GPU_20210617.h5\"\n",
    "#\n",
    "##\n",
    "###\n",
    "\n",
    "\n",
    "model_resnet50.save(save_name)"
   ]
  },
  {
   "cell_type": "code",
   "execution_count": null,
   "metadata": {},
   "outputs": [],
   "source": []
  },
  {
   "cell_type": "markdown",
   "metadata": {},
   "source": [
    "# New try : loading the model and change the learning rate.\n",
    "\n",
    "Not that good..."
   ]
  },
  {
   "cell_type": "code",
   "execution_count": 23,
   "metadata": {},
   "outputs": [],
   "source": [
    "model = load_model('/Users/Adrien/DataScientist/projet_Mushroom/models_GPU_20210620/model_resnet50_GPU_20210617.h5')"
   ]
  },
  {
   "cell_type": "code",
   "execution_count": 27,
   "metadata": {},
   "outputs": [
    {
     "name": "stdout",
     "output_type": "stream",
     "text": [
      "Epoch 1/5\n",
      "214/214 [==============================] - 514s 2s/step - loss: 1.0526 - acc: 0.5704 - val_loss: 1.0107 - val_acc: 0.6121\n",
      "Epoch 2/5\n",
      "214/214 [==============================] - 566s 3s/step - loss: 1.0433 - acc: 0.5703 - val_loss: 1.0104 - val_acc: 0.6210\n",
      "Epoch 3/5\n",
      "214/214 [==============================] - 590s 3s/step - loss: 1.0393 - acc: 0.5766 - val_loss: 1.0650 - val_acc: 0.6011\n",
      "Epoch 4/5\n",
      "214/214 [==============================] - 556s 3s/step - loss: 1.0355 - acc: 0.5753 - val_loss: 1.0158 - val_acc: 0.6174\n",
      "Epoch 5/5\n",
      "214/214 [==============================] - 507s 2s/step - loss: 1.0386 - acc: 0.5723 - val_loss: 1.0124 - val_acc: 0.6159\n"
     ]
    }
   ],
   "source": [
    "optimizer = keras.optimizers.Adam(lr=0.00001)\n",
    "model.compile(optimizer = optimizer, loss = 'sparse_categorical_crossentropy', metrics = ['accuracy'])\n",
    "history_resnet50 = model.fit_generator(generator=train_generator, \n",
    "                                epochs = 5,\n",
    "                                steps_per_epoch = len(data_train)//batch_size,\n",
    "                                validation_data = test_generator,\n",
    "                                validation_steps = len(data_test)//batch_size)"
   ]
  },
  {
   "cell_type": "code",
   "execution_count": 28,
   "metadata": {},
   "outputs": [],
   "source": [
    "### Set the path and name you want !\n",
    "##\n",
    "#\n",
    "save_name = \"/Users/Adrien/DataScientist/projet_Mushroom/models_GPU_20210620/model_resnet50_decreased_LR_GPU_20210617.h5\"\n",
    "#\n",
    "##\n",
    "###\n",
    "\n",
    "\n",
    "model.save(save_name)"
   ]
  }
 ],
 "metadata": {
  "kernelspec": {
   "display_name": "Python 3",
   "language": "python",
   "name": "python3"
  },
  "language_info": {
   "codemirror_mode": {
    "name": "ipython",
    "version": 3
   },
   "file_extension": ".py",
   "mimetype": "text/x-python",
   "name": "python",
   "nbconvert_exporter": "python",
   "pygments_lexer": "ipython3",
   "version": "3.8.5"
  }
 },
 "nbformat": 4,
 "nbformat_minor": 4
}
